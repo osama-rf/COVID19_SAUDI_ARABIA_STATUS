{
 "cells": [
  {
   "cell_type": "markdown",
   "id": "115c9f56",
   "metadata": {
    "papermill": {
     "duration": 0.05126,
     "end_time": "2021-11-14T19:23:55.925790",
     "exception": false,
     "start_time": "2021-11-14T19:23:55.874530",
     "status": "completed"
    },
    "tags": []
   },
   "source": [
    "# COVID-19 Analysis in Saudi Arabia [EDA & Visualization]"
   ]
  },
  {
   "cell_type": "markdown",
   "id": "43879e4f",
   "metadata": {
    "id": "o4YcBU4dAXtE",
    "papermill": {
     "duration": 0.050634,
     "end_time": "2021-11-14T19:23:56.026284",
     "exception": false,
     "start_time": "2021-11-14T19:23:55.975650",
     "status": "completed"
    },
    "tags": []
   },
   "source": [
    "Hi in this case study, I am exploring the case of covid 19 in the world and especially in Saudi Arabia and I want to recommend all who see this project to vote and leave a comment to improve the quality of the case study, thanks again and wish you all good health and safety.  osama refay\n",
    "- You can find the full project at: https://ourworldindata.org/coronavirus\n",
    "- Daily-updated dataset link: https://covid.ourworldindata.org/data/owid-covid-data.csv\n",
    "- We'll be exploring the dataset from: https://covid.ourworldindata.org\n",
    "- Dashboard Example: https://coronavirus.jhu.edu/map.html"
   ]
  },
  {
   "cell_type": "markdown",
   "id": "919f8f4f",
   "metadata": {
    "papermill": {
     "duration": 0.051136,
     "end_time": "2021-11-14T19:23:56.127386",
     "exception": false,
     "start_time": "2021-11-14T19:23:56.076250",
     "status": "completed"
    },
    "tags": []
   },
   "source": [
    "## DATA UNDERSTANDING"
   ]
  },
  {
   "cell_type": "markdown",
   "id": "5cb0fe90",
   "metadata": {
    "papermill": {
     "duration": 0.049166,
     "end_time": "2021-11-14T19:23:56.226079",
     "exception": false,
     "start_time": "2021-11-14T19:23:56.176913",
     "status": "completed"
    },
    "tags": []
   },
   "source": [
    "### Importing libraries & data"
   ]
  },
  {
   "cell_type": "code",
   "execution_count": 1,
   "id": "d2f19b14",
   "metadata": {
    "execution": {
     "iopub.execute_input": "2021-11-14T19:23:56.331134Z",
     "iopub.status.busy": "2021-11-14T19:23:56.329361Z",
     "iopub.status.idle": "2021-11-14T19:23:57.268519Z",
     "shell.execute_reply": "2021-11-14T19:23:57.269084Z",
     "shell.execute_reply.started": "2021-11-14T18:54:38.500976Z"
    },
    "papermill": {
     "duration": 0.993821,
     "end_time": "2021-11-14T19:23:57.269398",
     "exception": false,
     "start_time": "2021-11-14T19:23:56.275577",
     "status": "completed"
    },
    "tags": []
   },
   "outputs": [],
   "source": [
    "import numpy as np\n",
    "import pandas as pd\n",
    "import matplotlib.pyplot as plt\n",
    "import seaborn as sns\n",
    "%matplotlib inline \n",
    "sns.set()"
   ]
  },
  {
   "cell_type": "code",
   "execution_count": 2,
   "id": "c1c28a68",
   "metadata": {
    "execution": {
     "iopub.execute_input": "2021-11-14T19:23:57.434495Z",
     "iopub.status.busy": "2021-11-14T19:23:57.433811Z",
     "iopub.status.idle": "2021-11-14T19:23:59.204045Z",
     "shell.execute_reply": "2021-11-14T19:23:59.203394Z",
     "shell.execute_reply.started": "2021-11-14T18:54:38.510381Z"
    },
    "papermill": {
     "duration": 1.884957,
     "end_time": "2021-11-14T19:23:59.204206",
     "exception": false,
     "start_time": "2021-11-14T19:23:57.319249",
     "status": "completed"
    },
    "tags": []
   },
   "outputs": [],
   "source": [
    "df = pd.read_csv('https://covid.ourworldindata.org/data/owid-covid-data.csv')"
   ]
  },
  {
   "cell_type": "code",
   "execution_count": 3,
   "id": "c9d22d26",
   "metadata": {
    "execution": {
     "iopub.execute_input": "2021-11-14T19:23:59.315055Z",
     "iopub.status.busy": "2021-11-14T19:23:59.314404Z",
     "iopub.status.idle": "2021-11-14T19:23:59.385966Z",
     "shell.execute_reply": "2021-11-14T19:23:59.386487Z",
     "shell.execute_reply.started": "2021-11-14T18:54:39.715674Z"
    },
    "papermill": {
     "duration": 0.131733,
     "end_time": "2021-11-14T19:23:59.386656",
     "exception": false,
     "start_time": "2021-11-14T19:23:59.254923",
     "status": "completed"
    },
    "scrolled": true,
    "tags": []
   },
   "outputs": [
    {
     "data": {
      "text/html": [
       "<div>\n",
       "<style scoped>\n",
       "    .dataframe tbody tr th:only-of-type {\n",
       "        vertical-align: middle;\n",
       "    }\n",
       "\n",
       "    .dataframe tbody tr th {\n",
       "        vertical-align: top;\n",
       "    }\n",
       "\n",
       "    .dataframe thead th {\n",
       "        text-align: right;\n",
       "    }\n",
       "</style>\n",
       "<table border=\"1\" class=\"dataframe\">\n",
       "  <thead>\n",
       "    <tr style=\"text-align: right;\">\n",
       "      <th></th>\n",
       "      <th>iso_code</th>\n",
       "      <th>continent</th>\n",
       "      <th>location</th>\n",
       "      <th>date</th>\n",
       "      <th>total_cases</th>\n",
       "      <th>new_cases</th>\n",
       "      <th>new_cases_smoothed</th>\n",
       "      <th>total_deaths</th>\n",
       "      <th>new_deaths</th>\n",
       "      <th>new_deaths_smoothed</th>\n",
       "      <th>...</th>\n",
       "      <th>female_smokers</th>\n",
       "      <th>male_smokers</th>\n",
       "      <th>handwashing_facilities</th>\n",
       "      <th>hospital_beds_per_thousand</th>\n",
       "      <th>life_expectancy</th>\n",
       "      <th>human_development_index</th>\n",
       "      <th>excess_mortality_cumulative_absolute</th>\n",
       "      <th>excess_mortality_cumulative</th>\n",
       "      <th>excess_mortality</th>\n",
       "      <th>excess_mortality_cumulative_per_million</th>\n",
       "    </tr>\n",
       "  </thead>\n",
       "  <tbody>\n",
       "    <tr>\n",
       "      <th>0</th>\n",
       "      <td>AFG</td>\n",
       "      <td>Asia</td>\n",
       "      <td>Afghanistan</td>\n",
       "      <td>2020-02-24</td>\n",
       "      <td>5.0</td>\n",
       "      <td>5.0</td>\n",
       "      <td>NaN</td>\n",
       "      <td>NaN</td>\n",
       "      <td>NaN</td>\n",
       "      <td>NaN</td>\n",
       "      <td>...</td>\n",
       "      <td>NaN</td>\n",
       "      <td>NaN</td>\n",
       "      <td>37.746</td>\n",
       "      <td>0.5</td>\n",
       "      <td>64.83</td>\n",
       "      <td>0.511</td>\n",
       "      <td>NaN</td>\n",
       "      <td>NaN</td>\n",
       "      <td>NaN</td>\n",
       "      <td>NaN</td>\n",
       "    </tr>\n",
       "    <tr>\n",
       "      <th>1</th>\n",
       "      <td>AFG</td>\n",
       "      <td>Asia</td>\n",
       "      <td>Afghanistan</td>\n",
       "      <td>2020-02-25</td>\n",
       "      <td>5.0</td>\n",
       "      <td>0.0</td>\n",
       "      <td>NaN</td>\n",
       "      <td>NaN</td>\n",
       "      <td>NaN</td>\n",
       "      <td>NaN</td>\n",
       "      <td>...</td>\n",
       "      <td>NaN</td>\n",
       "      <td>NaN</td>\n",
       "      <td>37.746</td>\n",
       "      <td>0.5</td>\n",
       "      <td>64.83</td>\n",
       "      <td>0.511</td>\n",
       "      <td>NaN</td>\n",
       "      <td>NaN</td>\n",
       "      <td>NaN</td>\n",
       "      <td>NaN</td>\n",
       "    </tr>\n",
       "    <tr>\n",
       "      <th>2</th>\n",
       "      <td>AFG</td>\n",
       "      <td>Asia</td>\n",
       "      <td>Afghanistan</td>\n",
       "      <td>2020-02-26</td>\n",
       "      <td>5.0</td>\n",
       "      <td>0.0</td>\n",
       "      <td>NaN</td>\n",
       "      <td>NaN</td>\n",
       "      <td>NaN</td>\n",
       "      <td>NaN</td>\n",
       "      <td>...</td>\n",
       "      <td>NaN</td>\n",
       "      <td>NaN</td>\n",
       "      <td>37.746</td>\n",
       "      <td>0.5</td>\n",
       "      <td>64.83</td>\n",
       "      <td>0.511</td>\n",
       "      <td>NaN</td>\n",
       "      <td>NaN</td>\n",
       "      <td>NaN</td>\n",
       "      <td>NaN</td>\n",
       "    </tr>\n",
       "    <tr>\n",
       "      <th>3</th>\n",
       "      <td>AFG</td>\n",
       "      <td>Asia</td>\n",
       "      <td>Afghanistan</td>\n",
       "      <td>2020-02-27</td>\n",
       "      <td>5.0</td>\n",
       "      <td>0.0</td>\n",
       "      <td>NaN</td>\n",
       "      <td>NaN</td>\n",
       "      <td>NaN</td>\n",
       "      <td>NaN</td>\n",
       "      <td>...</td>\n",
       "      <td>NaN</td>\n",
       "      <td>NaN</td>\n",
       "      <td>37.746</td>\n",
       "      <td>0.5</td>\n",
       "      <td>64.83</td>\n",
       "      <td>0.511</td>\n",
       "      <td>NaN</td>\n",
       "      <td>NaN</td>\n",
       "      <td>NaN</td>\n",
       "      <td>NaN</td>\n",
       "    </tr>\n",
       "    <tr>\n",
       "      <th>4</th>\n",
       "      <td>AFG</td>\n",
       "      <td>Asia</td>\n",
       "      <td>Afghanistan</td>\n",
       "      <td>2020-02-28</td>\n",
       "      <td>5.0</td>\n",
       "      <td>0.0</td>\n",
       "      <td>NaN</td>\n",
       "      <td>NaN</td>\n",
       "      <td>NaN</td>\n",
       "      <td>NaN</td>\n",
       "      <td>...</td>\n",
       "      <td>NaN</td>\n",
       "      <td>NaN</td>\n",
       "      <td>37.746</td>\n",
       "      <td>0.5</td>\n",
       "      <td>64.83</td>\n",
       "      <td>0.511</td>\n",
       "      <td>NaN</td>\n",
       "      <td>NaN</td>\n",
       "      <td>NaN</td>\n",
       "      <td>NaN</td>\n",
       "    </tr>\n",
       "    <tr>\n",
       "      <th>...</th>\n",
       "      <td>...</td>\n",
       "      <td>...</td>\n",
       "      <td>...</td>\n",
       "      <td>...</td>\n",
       "      <td>...</td>\n",
       "      <td>...</td>\n",
       "      <td>...</td>\n",
       "      <td>...</td>\n",
       "      <td>...</td>\n",
       "      <td>...</td>\n",
       "      <td>...</td>\n",
       "      <td>...</td>\n",
       "      <td>...</td>\n",
       "      <td>...</td>\n",
       "      <td>...</td>\n",
       "      <td>...</td>\n",
       "      <td>...</td>\n",
       "      <td>...</td>\n",
       "      <td>...</td>\n",
       "      <td>...</td>\n",
       "      <td>...</td>\n",
       "    </tr>\n",
       "    <tr>\n",
       "      <th>133077</th>\n",
       "      <td>ZWE</td>\n",
       "      <td>Africa</td>\n",
       "      <td>Zimbabwe</td>\n",
       "      <td>2021-11-09</td>\n",
       "      <td>133242.0</td>\n",
       "      <td>37.0</td>\n",
       "      <td>27.857</td>\n",
       "      <td>4691.0</td>\n",
       "      <td>1.0</td>\n",
       "      <td>1.143</td>\n",
       "      <td>...</td>\n",
       "      <td>1.6</td>\n",
       "      <td>30.7</td>\n",
       "      <td>36.791</td>\n",
       "      <td>1.7</td>\n",
       "      <td>61.49</td>\n",
       "      <td>0.571</td>\n",
       "      <td>NaN</td>\n",
       "      <td>NaN</td>\n",
       "      <td>NaN</td>\n",
       "      <td>NaN</td>\n",
       "    </tr>\n",
       "    <tr>\n",
       "      <th>133078</th>\n",
       "      <td>ZWE</td>\n",
       "      <td>Africa</td>\n",
       "      <td>Zimbabwe</td>\n",
       "      <td>2021-11-10</td>\n",
       "      <td>133302.0</td>\n",
       "      <td>60.0</td>\n",
       "      <td>30.143</td>\n",
       "      <td>4694.0</td>\n",
       "      <td>3.0</td>\n",
       "      <td>1.429</td>\n",
       "      <td>...</td>\n",
       "      <td>1.6</td>\n",
       "      <td>30.7</td>\n",
       "      <td>36.791</td>\n",
       "      <td>1.7</td>\n",
       "      <td>61.49</td>\n",
       "      <td>0.571</td>\n",
       "      <td>NaN</td>\n",
       "      <td>NaN</td>\n",
       "      <td>NaN</td>\n",
       "      <td>NaN</td>\n",
       "    </tr>\n",
       "    <tr>\n",
       "      <th>133079</th>\n",
       "      <td>ZWE</td>\n",
       "      <td>Africa</td>\n",
       "      <td>Zimbabwe</td>\n",
       "      <td>2021-11-11</td>\n",
       "      <td>133329.0</td>\n",
       "      <td>27.0</td>\n",
       "      <td>31.000</td>\n",
       "      <td>4694.0</td>\n",
       "      <td>0.0</td>\n",
       "      <td>1.286</td>\n",
       "      <td>...</td>\n",
       "      <td>1.6</td>\n",
       "      <td>30.7</td>\n",
       "      <td>36.791</td>\n",
       "      <td>1.7</td>\n",
       "      <td>61.49</td>\n",
       "      <td>0.571</td>\n",
       "      <td>NaN</td>\n",
       "      <td>NaN</td>\n",
       "      <td>NaN</td>\n",
       "      <td>NaN</td>\n",
       "    </tr>\n",
       "    <tr>\n",
       "      <th>133080</th>\n",
       "      <td>ZWE</td>\n",
       "      <td>Africa</td>\n",
       "      <td>Zimbabwe</td>\n",
       "      <td>2021-11-12</td>\n",
       "      <td>133329.0</td>\n",
       "      <td>0.0</td>\n",
       "      <td>31.000</td>\n",
       "      <td>4694.0</td>\n",
       "      <td>0.0</td>\n",
       "      <td>1.286</td>\n",
       "      <td>...</td>\n",
       "      <td>1.6</td>\n",
       "      <td>30.7</td>\n",
       "      <td>36.791</td>\n",
       "      <td>1.7</td>\n",
       "      <td>61.49</td>\n",
       "      <td>0.571</td>\n",
       "      <td>NaN</td>\n",
       "      <td>NaN</td>\n",
       "      <td>NaN</td>\n",
       "      <td>NaN</td>\n",
       "    </tr>\n",
       "    <tr>\n",
       "      <th>133081</th>\n",
       "      <td>ZWE</td>\n",
       "      <td>Africa</td>\n",
       "      <td>Zimbabwe</td>\n",
       "      <td>2021-11-13</td>\n",
       "      <td>133393.0</td>\n",
       "      <td>64.0</td>\n",
       "      <td>32.143</td>\n",
       "      <td>4696.0</td>\n",
       "      <td>2.0</td>\n",
       "      <td>1.571</td>\n",
       "      <td>...</td>\n",
       "      <td>1.6</td>\n",
       "      <td>30.7</td>\n",
       "      <td>36.791</td>\n",
       "      <td>1.7</td>\n",
       "      <td>61.49</td>\n",
       "      <td>0.571</td>\n",
       "      <td>NaN</td>\n",
       "      <td>NaN</td>\n",
       "      <td>NaN</td>\n",
       "      <td>NaN</td>\n",
       "    </tr>\n",
       "  </tbody>\n",
       "</table>\n",
       "<p>133082 rows × 65 columns</p>\n",
       "</div>"
      ],
      "text/plain": [
       "       iso_code continent     location        date  total_cases  new_cases  \\\n",
       "0           AFG      Asia  Afghanistan  2020-02-24          5.0        5.0   \n",
       "1           AFG      Asia  Afghanistan  2020-02-25          5.0        0.0   \n",
       "2           AFG      Asia  Afghanistan  2020-02-26          5.0        0.0   \n",
       "3           AFG      Asia  Afghanistan  2020-02-27          5.0        0.0   \n",
       "4           AFG      Asia  Afghanistan  2020-02-28          5.0        0.0   \n",
       "...         ...       ...          ...         ...          ...        ...   \n",
       "133077      ZWE    Africa     Zimbabwe  2021-11-09     133242.0       37.0   \n",
       "133078      ZWE    Africa     Zimbabwe  2021-11-10     133302.0       60.0   \n",
       "133079      ZWE    Africa     Zimbabwe  2021-11-11     133329.0       27.0   \n",
       "133080      ZWE    Africa     Zimbabwe  2021-11-12     133329.0        0.0   \n",
       "133081      ZWE    Africa     Zimbabwe  2021-11-13     133393.0       64.0   \n",
       "\n",
       "        new_cases_smoothed  total_deaths  new_deaths  new_deaths_smoothed  \\\n",
       "0                      NaN           NaN         NaN                  NaN   \n",
       "1                      NaN           NaN         NaN                  NaN   \n",
       "2                      NaN           NaN         NaN                  NaN   \n",
       "3                      NaN           NaN         NaN                  NaN   \n",
       "4                      NaN           NaN         NaN                  NaN   \n",
       "...                    ...           ...         ...                  ...   \n",
       "133077              27.857        4691.0         1.0                1.143   \n",
       "133078              30.143        4694.0         3.0                1.429   \n",
       "133079              31.000        4694.0         0.0                1.286   \n",
       "133080              31.000        4694.0         0.0                1.286   \n",
       "133081              32.143        4696.0         2.0                1.571   \n",
       "\n",
       "        ...  female_smokers  male_smokers  handwashing_facilities  \\\n",
       "0       ...             NaN           NaN                  37.746   \n",
       "1       ...             NaN           NaN                  37.746   \n",
       "2       ...             NaN           NaN                  37.746   \n",
       "3       ...             NaN           NaN                  37.746   \n",
       "4       ...             NaN           NaN                  37.746   \n",
       "...     ...             ...           ...                     ...   \n",
       "133077  ...             1.6          30.7                  36.791   \n",
       "133078  ...             1.6          30.7                  36.791   \n",
       "133079  ...             1.6          30.7                  36.791   \n",
       "133080  ...             1.6          30.7                  36.791   \n",
       "133081  ...             1.6          30.7                  36.791   \n",
       "\n",
       "        hospital_beds_per_thousand  life_expectancy  human_development_index  \\\n",
       "0                              0.5            64.83                    0.511   \n",
       "1                              0.5            64.83                    0.511   \n",
       "2                              0.5            64.83                    0.511   \n",
       "3                              0.5            64.83                    0.511   \n",
       "4                              0.5            64.83                    0.511   \n",
       "...                            ...              ...                      ...   \n",
       "133077                         1.7            61.49                    0.571   \n",
       "133078                         1.7            61.49                    0.571   \n",
       "133079                         1.7            61.49                    0.571   \n",
       "133080                         1.7            61.49                    0.571   \n",
       "133081                         1.7            61.49                    0.571   \n",
       "\n",
       "        excess_mortality_cumulative_absolute  excess_mortality_cumulative  \\\n",
       "0                                        NaN                          NaN   \n",
       "1                                        NaN                          NaN   \n",
       "2                                        NaN                          NaN   \n",
       "3                                        NaN                          NaN   \n",
       "4                                        NaN                          NaN   \n",
       "...                                      ...                          ...   \n",
       "133077                                   NaN                          NaN   \n",
       "133078                                   NaN                          NaN   \n",
       "133079                                   NaN                          NaN   \n",
       "133080                                   NaN                          NaN   \n",
       "133081                                   NaN                          NaN   \n",
       "\n",
       "        excess_mortality  excess_mortality_cumulative_per_million  \n",
       "0                    NaN                                      NaN  \n",
       "1                    NaN                                      NaN  \n",
       "2                    NaN                                      NaN  \n",
       "3                    NaN                                      NaN  \n",
       "4                    NaN                                      NaN  \n",
       "...                  ...                                      ...  \n",
       "133077               NaN                                      NaN  \n",
       "133078               NaN                                      NaN  \n",
       "133079               NaN                                      NaN  \n",
       "133080               NaN                                      NaN  \n",
       "133081               NaN                                      NaN  \n",
       "\n",
       "[133082 rows x 65 columns]"
      ]
     },
     "execution_count": 3,
     "metadata": {},
     "output_type": "execute_result"
    }
   ],
   "source": [
    "df"
   ]
  },
  {
   "cell_type": "code",
   "execution_count": 4,
   "id": "19ab1bf8",
   "metadata": {
    "execution": {
     "iopub.execute_input": "2021-11-14T19:23:59.495628Z",
     "iopub.status.busy": "2021-11-14T19:23:59.494579Z",
     "iopub.status.idle": "2021-11-14T19:23:59.517236Z",
     "shell.execute_reply": "2021-11-14T19:23:59.517699Z",
     "shell.execute_reply.started": "2021-11-14T18:54:39.773869Z"
    },
    "papermill": {
     "duration": 0.080013,
     "end_time": "2021-11-14T19:23:59.517875",
     "exception": false,
     "start_time": "2021-11-14T19:23:59.437862",
     "status": "completed"
    },
    "tags": []
   },
   "outputs": [
    {
     "data": {
      "text/html": [
       "<div>\n",
       "<style scoped>\n",
       "    .dataframe tbody tr th:only-of-type {\n",
       "        vertical-align: middle;\n",
       "    }\n",
       "\n",
       "    .dataframe tbody tr th {\n",
       "        vertical-align: top;\n",
       "    }\n",
       "\n",
       "    .dataframe thead th {\n",
       "        text-align: right;\n",
       "    }\n",
       "</style>\n",
       "<table border=\"1\" class=\"dataframe\">\n",
       "  <thead>\n",
       "    <tr style=\"text-align: right;\">\n",
       "      <th></th>\n",
       "      <th>iso_code</th>\n",
       "      <th>continent</th>\n",
       "      <th>location</th>\n",
       "      <th>date</th>\n",
       "      <th>total_cases</th>\n",
       "      <th>new_cases</th>\n",
       "      <th>new_cases_smoothed</th>\n",
       "      <th>total_deaths</th>\n",
       "      <th>new_deaths</th>\n",
       "      <th>new_deaths_smoothed</th>\n",
       "      <th>...</th>\n",
       "      <th>female_smokers</th>\n",
       "      <th>male_smokers</th>\n",
       "      <th>handwashing_facilities</th>\n",
       "      <th>hospital_beds_per_thousand</th>\n",
       "      <th>life_expectancy</th>\n",
       "      <th>human_development_index</th>\n",
       "      <th>excess_mortality_cumulative_absolute</th>\n",
       "      <th>excess_mortality_cumulative</th>\n",
       "      <th>excess_mortality</th>\n",
       "      <th>excess_mortality_cumulative_per_million</th>\n",
       "    </tr>\n",
       "  </thead>\n",
       "  <tbody>\n",
       "    <tr>\n",
       "      <th>0</th>\n",
       "      <td>AFG</td>\n",
       "      <td>Asia</td>\n",
       "      <td>Afghanistan</td>\n",
       "      <td>2020-02-24</td>\n",
       "      <td>5.0</td>\n",
       "      <td>5.0</td>\n",
       "      <td>NaN</td>\n",
       "      <td>NaN</td>\n",
       "      <td>NaN</td>\n",
       "      <td>NaN</td>\n",
       "      <td>...</td>\n",
       "      <td>NaN</td>\n",
       "      <td>NaN</td>\n",
       "      <td>37.746</td>\n",
       "      <td>0.5</td>\n",
       "      <td>64.83</td>\n",
       "      <td>0.511</td>\n",
       "      <td>NaN</td>\n",
       "      <td>NaN</td>\n",
       "      <td>NaN</td>\n",
       "      <td>NaN</td>\n",
       "    </tr>\n",
       "    <tr>\n",
       "      <th>1</th>\n",
       "      <td>AFG</td>\n",
       "      <td>Asia</td>\n",
       "      <td>Afghanistan</td>\n",
       "      <td>2020-02-25</td>\n",
       "      <td>5.0</td>\n",
       "      <td>0.0</td>\n",
       "      <td>NaN</td>\n",
       "      <td>NaN</td>\n",
       "      <td>NaN</td>\n",
       "      <td>NaN</td>\n",
       "      <td>...</td>\n",
       "      <td>NaN</td>\n",
       "      <td>NaN</td>\n",
       "      <td>37.746</td>\n",
       "      <td>0.5</td>\n",
       "      <td>64.83</td>\n",
       "      <td>0.511</td>\n",
       "      <td>NaN</td>\n",
       "      <td>NaN</td>\n",
       "      <td>NaN</td>\n",
       "      <td>NaN</td>\n",
       "    </tr>\n",
       "    <tr>\n",
       "      <th>2</th>\n",
       "      <td>AFG</td>\n",
       "      <td>Asia</td>\n",
       "      <td>Afghanistan</td>\n",
       "      <td>2020-02-26</td>\n",
       "      <td>5.0</td>\n",
       "      <td>0.0</td>\n",
       "      <td>NaN</td>\n",
       "      <td>NaN</td>\n",
       "      <td>NaN</td>\n",
       "      <td>NaN</td>\n",
       "      <td>...</td>\n",
       "      <td>NaN</td>\n",
       "      <td>NaN</td>\n",
       "      <td>37.746</td>\n",
       "      <td>0.5</td>\n",
       "      <td>64.83</td>\n",
       "      <td>0.511</td>\n",
       "      <td>NaN</td>\n",
       "      <td>NaN</td>\n",
       "      <td>NaN</td>\n",
       "      <td>NaN</td>\n",
       "    </tr>\n",
       "    <tr>\n",
       "      <th>3</th>\n",
       "      <td>AFG</td>\n",
       "      <td>Asia</td>\n",
       "      <td>Afghanistan</td>\n",
       "      <td>2020-02-27</td>\n",
       "      <td>5.0</td>\n",
       "      <td>0.0</td>\n",
       "      <td>NaN</td>\n",
       "      <td>NaN</td>\n",
       "      <td>NaN</td>\n",
       "      <td>NaN</td>\n",
       "      <td>...</td>\n",
       "      <td>NaN</td>\n",
       "      <td>NaN</td>\n",
       "      <td>37.746</td>\n",
       "      <td>0.5</td>\n",
       "      <td>64.83</td>\n",
       "      <td>0.511</td>\n",
       "      <td>NaN</td>\n",
       "      <td>NaN</td>\n",
       "      <td>NaN</td>\n",
       "      <td>NaN</td>\n",
       "    </tr>\n",
       "    <tr>\n",
       "      <th>4</th>\n",
       "      <td>AFG</td>\n",
       "      <td>Asia</td>\n",
       "      <td>Afghanistan</td>\n",
       "      <td>2020-02-28</td>\n",
       "      <td>5.0</td>\n",
       "      <td>0.0</td>\n",
       "      <td>NaN</td>\n",
       "      <td>NaN</td>\n",
       "      <td>NaN</td>\n",
       "      <td>NaN</td>\n",
       "      <td>...</td>\n",
       "      <td>NaN</td>\n",
       "      <td>NaN</td>\n",
       "      <td>37.746</td>\n",
       "      <td>0.5</td>\n",
       "      <td>64.83</td>\n",
       "      <td>0.511</td>\n",
       "      <td>NaN</td>\n",
       "      <td>NaN</td>\n",
       "      <td>NaN</td>\n",
       "      <td>NaN</td>\n",
       "    </tr>\n",
       "  </tbody>\n",
       "</table>\n",
       "<p>5 rows × 65 columns</p>\n",
       "</div>"
      ],
      "text/plain": [
       "  iso_code continent     location        date  total_cases  new_cases  \\\n",
       "0      AFG      Asia  Afghanistan  2020-02-24          5.0        5.0   \n",
       "1      AFG      Asia  Afghanistan  2020-02-25          5.0        0.0   \n",
       "2      AFG      Asia  Afghanistan  2020-02-26          5.0        0.0   \n",
       "3      AFG      Asia  Afghanistan  2020-02-27          5.0        0.0   \n",
       "4      AFG      Asia  Afghanistan  2020-02-28          5.0        0.0   \n",
       "\n",
       "   new_cases_smoothed  total_deaths  new_deaths  new_deaths_smoothed  ...  \\\n",
       "0                 NaN           NaN         NaN                  NaN  ...   \n",
       "1                 NaN           NaN         NaN                  NaN  ...   \n",
       "2                 NaN           NaN         NaN                  NaN  ...   \n",
       "3                 NaN           NaN         NaN                  NaN  ...   \n",
       "4                 NaN           NaN         NaN                  NaN  ...   \n",
       "\n",
       "   female_smokers  male_smokers  handwashing_facilities  \\\n",
       "0             NaN           NaN                  37.746   \n",
       "1             NaN           NaN                  37.746   \n",
       "2             NaN           NaN                  37.746   \n",
       "3             NaN           NaN                  37.746   \n",
       "4             NaN           NaN                  37.746   \n",
       "\n",
       "   hospital_beds_per_thousand  life_expectancy  human_development_index  \\\n",
       "0                         0.5            64.83                    0.511   \n",
       "1                         0.5            64.83                    0.511   \n",
       "2                         0.5            64.83                    0.511   \n",
       "3                         0.5            64.83                    0.511   \n",
       "4                         0.5            64.83                    0.511   \n",
       "\n",
       "   excess_mortality_cumulative_absolute  excess_mortality_cumulative  \\\n",
       "0                                   NaN                          NaN   \n",
       "1                                   NaN                          NaN   \n",
       "2                                   NaN                          NaN   \n",
       "3                                   NaN                          NaN   \n",
       "4                                   NaN                          NaN   \n",
       "\n",
       "   excess_mortality  excess_mortality_cumulative_per_million  \n",
       "0               NaN                                      NaN  \n",
       "1               NaN                                      NaN  \n",
       "2               NaN                                      NaN  \n",
       "3               NaN                                      NaN  \n",
       "4               NaN                                      NaN  \n",
       "\n",
       "[5 rows x 65 columns]"
      ]
     },
     "execution_count": 4,
     "metadata": {},
     "output_type": "execute_result"
    }
   ],
   "source": [
    "df.head()"
   ]
  },
  {
   "cell_type": "code",
   "execution_count": 5,
   "id": "2bc72fff",
   "metadata": {
    "execution": {
     "iopub.execute_input": "2021-11-14T19:23:59.652632Z",
     "iopub.status.busy": "2021-11-14T19:23:59.651804Z",
     "iopub.status.idle": "2021-11-14T19:23:59.655391Z",
     "shell.execute_reply": "2021-11-14T19:23:59.654817Z",
     "shell.execute_reply.started": "2021-11-14T18:54:39.797674Z"
    },
    "papermill": {
     "duration": 0.086036,
     "end_time": "2021-11-14T19:23:59.655531",
     "exception": false,
     "start_time": "2021-11-14T19:23:59.569495",
     "status": "completed"
    },
    "tags": []
   },
   "outputs": [
    {
     "data": {
      "text/html": [
       "<div>\n",
       "<style scoped>\n",
       "    .dataframe tbody tr th:only-of-type {\n",
       "        vertical-align: middle;\n",
       "    }\n",
       "\n",
       "    .dataframe tbody tr th {\n",
       "        vertical-align: top;\n",
       "    }\n",
       "\n",
       "    .dataframe thead th {\n",
       "        text-align: right;\n",
       "    }\n",
       "</style>\n",
       "<table border=\"1\" class=\"dataframe\">\n",
       "  <thead>\n",
       "    <tr style=\"text-align: right;\">\n",
       "      <th></th>\n",
       "      <th>iso_code</th>\n",
       "      <th>continent</th>\n",
       "      <th>location</th>\n",
       "      <th>date</th>\n",
       "      <th>total_cases</th>\n",
       "      <th>new_cases</th>\n",
       "      <th>new_cases_smoothed</th>\n",
       "      <th>total_deaths</th>\n",
       "      <th>new_deaths</th>\n",
       "      <th>new_deaths_smoothed</th>\n",
       "      <th>...</th>\n",
       "      <th>female_smokers</th>\n",
       "      <th>male_smokers</th>\n",
       "      <th>handwashing_facilities</th>\n",
       "      <th>hospital_beds_per_thousand</th>\n",
       "      <th>life_expectancy</th>\n",
       "      <th>human_development_index</th>\n",
       "      <th>excess_mortality_cumulative_absolute</th>\n",
       "      <th>excess_mortality_cumulative</th>\n",
       "      <th>excess_mortality</th>\n",
       "      <th>excess_mortality_cumulative_per_million</th>\n",
       "    </tr>\n",
       "  </thead>\n",
       "  <tbody>\n",
       "    <tr>\n",
       "      <th>133077</th>\n",
       "      <td>ZWE</td>\n",
       "      <td>Africa</td>\n",
       "      <td>Zimbabwe</td>\n",
       "      <td>2021-11-09</td>\n",
       "      <td>133242.0</td>\n",
       "      <td>37.0</td>\n",
       "      <td>27.857</td>\n",
       "      <td>4691.0</td>\n",
       "      <td>1.0</td>\n",
       "      <td>1.143</td>\n",
       "      <td>...</td>\n",
       "      <td>1.6</td>\n",
       "      <td>30.7</td>\n",
       "      <td>36.791</td>\n",
       "      <td>1.7</td>\n",
       "      <td>61.49</td>\n",
       "      <td>0.571</td>\n",
       "      <td>NaN</td>\n",
       "      <td>NaN</td>\n",
       "      <td>NaN</td>\n",
       "      <td>NaN</td>\n",
       "    </tr>\n",
       "    <tr>\n",
       "      <th>133078</th>\n",
       "      <td>ZWE</td>\n",
       "      <td>Africa</td>\n",
       "      <td>Zimbabwe</td>\n",
       "      <td>2021-11-10</td>\n",
       "      <td>133302.0</td>\n",
       "      <td>60.0</td>\n",
       "      <td>30.143</td>\n",
       "      <td>4694.0</td>\n",
       "      <td>3.0</td>\n",
       "      <td>1.429</td>\n",
       "      <td>...</td>\n",
       "      <td>1.6</td>\n",
       "      <td>30.7</td>\n",
       "      <td>36.791</td>\n",
       "      <td>1.7</td>\n",
       "      <td>61.49</td>\n",
       "      <td>0.571</td>\n",
       "      <td>NaN</td>\n",
       "      <td>NaN</td>\n",
       "      <td>NaN</td>\n",
       "      <td>NaN</td>\n",
       "    </tr>\n",
       "    <tr>\n",
       "      <th>133079</th>\n",
       "      <td>ZWE</td>\n",
       "      <td>Africa</td>\n",
       "      <td>Zimbabwe</td>\n",
       "      <td>2021-11-11</td>\n",
       "      <td>133329.0</td>\n",
       "      <td>27.0</td>\n",
       "      <td>31.000</td>\n",
       "      <td>4694.0</td>\n",
       "      <td>0.0</td>\n",
       "      <td>1.286</td>\n",
       "      <td>...</td>\n",
       "      <td>1.6</td>\n",
       "      <td>30.7</td>\n",
       "      <td>36.791</td>\n",
       "      <td>1.7</td>\n",
       "      <td>61.49</td>\n",
       "      <td>0.571</td>\n",
       "      <td>NaN</td>\n",
       "      <td>NaN</td>\n",
       "      <td>NaN</td>\n",
       "      <td>NaN</td>\n",
       "    </tr>\n",
       "    <tr>\n",
       "      <th>133080</th>\n",
       "      <td>ZWE</td>\n",
       "      <td>Africa</td>\n",
       "      <td>Zimbabwe</td>\n",
       "      <td>2021-11-12</td>\n",
       "      <td>133329.0</td>\n",
       "      <td>0.0</td>\n",
       "      <td>31.000</td>\n",
       "      <td>4694.0</td>\n",
       "      <td>0.0</td>\n",
       "      <td>1.286</td>\n",
       "      <td>...</td>\n",
       "      <td>1.6</td>\n",
       "      <td>30.7</td>\n",
       "      <td>36.791</td>\n",
       "      <td>1.7</td>\n",
       "      <td>61.49</td>\n",
       "      <td>0.571</td>\n",
       "      <td>NaN</td>\n",
       "      <td>NaN</td>\n",
       "      <td>NaN</td>\n",
       "      <td>NaN</td>\n",
       "    </tr>\n",
       "    <tr>\n",
       "      <th>133081</th>\n",
       "      <td>ZWE</td>\n",
       "      <td>Africa</td>\n",
       "      <td>Zimbabwe</td>\n",
       "      <td>2021-11-13</td>\n",
       "      <td>133393.0</td>\n",
       "      <td>64.0</td>\n",
       "      <td>32.143</td>\n",
       "      <td>4696.0</td>\n",
       "      <td>2.0</td>\n",
       "      <td>1.571</td>\n",
       "      <td>...</td>\n",
       "      <td>1.6</td>\n",
       "      <td>30.7</td>\n",
       "      <td>36.791</td>\n",
       "      <td>1.7</td>\n",
       "      <td>61.49</td>\n",
       "      <td>0.571</td>\n",
       "      <td>NaN</td>\n",
       "      <td>NaN</td>\n",
       "      <td>NaN</td>\n",
       "      <td>NaN</td>\n",
       "    </tr>\n",
       "  </tbody>\n",
       "</table>\n",
       "<p>5 rows × 65 columns</p>\n",
       "</div>"
      ],
      "text/plain": [
       "       iso_code continent  location        date  total_cases  new_cases  \\\n",
       "133077      ZWE    Africa  Zimbabwe  2021-11-09     133242.0       37.0   \n",
       "133078      ZWE    Africa  Zimbabwe  2021-11-10     133302.0       60.0   \n",
       "133079      ZWE    Africa  Zimbabwe  2021-11-11     133329.0       27.0   \n",
       "133080      ZWE    Africa  Zimbabwe  2021-11-12     133329.0        0.0   \n",
       "133081      ZWE    Africa  Zimbabwe  2021-11-13     133393.0       64.0   \n",
       "\n",
       "        new_cases_smoothed  total_deaths  new_deaths  new_deaths_smoothed  \\\n",
       "133077              27.857        4691.0         1.0                1.143   \n",
       "133078              30.143        4694.0         3.0                1.429   \n",
       "133079              31.000        4694.0         0.0                1.286   \n",
       "133080              31.000        4694.0         0.0                1.286   \n",
       "133081              32.143        4696.0         2.0                1.571   \n",
       "\n",
       "        ...  female_smokers  male_smokers  handwashing_facilities  \\\n",
       "133077  ...             1.6          30.7                  36.791   \n",
       "133078  ...             1.6          30.7                  36.791   \n",
       "133079  ...             1.6          30.7                  36.791   \n",
       "133080  ...             1.6          30.7                  36.791   \n",
       "133081  ...             1.6          30.7                  36.791   \n",
       "\n",
       "        hospital_beds_per_thousand  life_expectancy  human_development_index  \\\n",
       "133077                         1.7            61.49                    0.571   \n",
       "133078                         1.7            61.49                    0.571   \n",
       "133079                         1.7            61.49                    0.571   \n",
       "133080                         1.7            61.49                    0.571   \n",
       "133081                         1.7            61.49                    0.571   \n",
       "\n",
       "        excess_mortality_cumulative_absolute  excess_mortality_cumulative  \\\n",
       "133077                                   NaN                          NaN   \n",
       "133078                                   NaN                          NaN   \n",
       "133079                                   NaN                          NaN   \n",
       "133080                                   NaN                          NaN   \n",
       "133081                                   NaN                          NaN   \n",
       "\n",
       "        excess_mortality  excess_mortality_cumulative_per_million  \n",
       "133077               NaN                                      NaN  \n",
       "133078               NaN                                      NaN  \n",
       "133079               NaN                                      NaN  \n",
       "133080               NaN                                      NaN  \n",
       "133081               NaN                                      NaN  \n",
       "\n",
       "[5 rows x 65 columns]"
      ]
     },
     "execution_count": 5,
     "metadata": {},
     "output_type": "execute_result"
    }
   ],
   "source": [
    "df.tail()"
   ]
  },
  {
   "cell_type": "code",
   "execution_count": 6,
   "id": "7b28368f",
   "metadata": {
    "execution": {
     "iopub.execute_input": "2021-11-14T19:23:59.766828Z",
     "iopub.status.busy": "2021-11-14T19:23:59.766115Z",
     "iopub.status.idle": "2021-11-14T19:23:59.770133Z",
     "shell.execute_reply": "2021-11-14T19:23:59.769546Z",
     "shell.execute_reply.started": "2021-11-14T18:54:39.825234Z"
    },
    "papermill": {
     "duration": 0.061656,
     "end_time": "2021-11-14T19:23:59.770309",
     "exception": false,
     "start_time": "2021-11-14T19:23:59.708653",
     "status": "completed"
    },
    "tags": []
   },
   "outputs": [
    {
     "data": {
      "text/plain": [
       "Index(['iso_code', 'continent', 'location', 'date', 'total_cases', 'new_cases',\n",
       "       'new_cases_smoothed', 'total_deaths', 'new_deaths',\n",
       "       'new_deaths_smoothed', 'total_cases_per_million',\n",
       "       'new_cases_per_million', 'new_cases_smoothed_per_million',\n",
       "       'total_deaths_per_million', 'new_deaths_per_million',\n",
       "       'new_deaths_smoothed_per_million', 'reproduction_rate', 'icu_patients',\n",
       "       'icu_patients_per_million', 'hosp_patients',\n",
       "       'hosp_patients_per_million', 'weekly_icu_admissions',\n",
       "       'weekly_icu_admissions_per_million', 'weekly_hosp_admissions',\n",
       "       'weekly_hosp_admissions_per_million', 'new_tests', 'total_tests',\n",
       "       'total_tests_per_thousand', 'new_tests_per_thousand',\n",
       "       'new_tests_smoothed', 'new_tests_smoothed_per_thousand',\n",
       "       'positive_rate', 'tests_per_case', 'tests_units', 'total_vaccinations',\n",
       "       'people_vaccinated', 'people_fully_vaccinated', 'total_boosters',\n",
       "       'new_vaccinations', 'new_vaccinations_smoothed',\n",
       "       'total_vaccinations_per_hundred', 'people_vaccinated_per_hundred',\n",
       "       'people_fully_vaccinated_per_hundred', 'total_boosters_per_hundred',\n",
       "       'new_vaccinations_smoothed_per_million', 'stringency_index',\n",
       "       'population', 'population_density', 'median_age', 'aged_65_older',\n",
       "       'aged_70_older', 'gdp_per_capita', 'extreme_poverty',\n",
       "       'cardiovasc_death_rate', 'diabetes_prevalence', 'female_smokers',\n",
       "       'male_smokers', 'handwashing_facilities', 'hospital_beds_per_thousand',\n",
       "       'life_expectancy', 'human_development_index',\n",
       "       'excess_mortality_cumulative_absolute', 'excess_mortality_cumulative',\n",
       "       'excess_mortality', 'excess_mortality_cumulative_per_million'],\n",
       "      dtype='object')"
      ]
     },
     "execution_count": 6,
     "metadata": {},
     "output_type": "execute_result"
    }
   ],
   "source": [
    "df.columns"
   ]
  },
  {
   "cell_type": "code",
   "execution_count": 7,
   "id": "197d4a0f",
   "metadata": {
    "execution": {
     "iopub.execute_input": "2021-11-14T19:23:59.878780Z",
     "iopub.status.busy": "2021-11-14T19:23:59.878068Z",
     "iopub.status.idle": "2021-11-14T19:23:59.882414Z",
     "shell.execute_reply": "2021-11-14T19:23:59.883007Z",
     "shell.execute_reply.started": "2021-11-14T18:54:39.832844Z"
    },
    "papermill": {
     "duration": 0.060582,
     "end_time": "2021-11-14T19:23:59.883200",
     "exception": false,
     "start_time": "2021-11-14T19:23:59.822618",
     "status": "completed"
    },
    "tags": []
   },
   "outputs": [
    {
     "data": {
      "text/plain": [
       "(133082, 65)"
      ]
     },
     "execution_count": 7,
     "metadata": {},
     "output_type": "execute_result"
    }
   ],
   "source": [
    "df.shape"
   ]
  },
  {
   "cell_type": "code",
   "execution_count": 8,
   "id": "76ca4994",
   "metadata": {
    "execution": {
     "iopub.execute_input": "2021-11-14T19:23:59.994985Z",
     "iopub.status.busy": "2021-11-14T19:23:59.994358Z",
     "iopub.status.idle": "2021-11-14T19:24:00.111109Z",
     "shell.execute_reply": "2021-11-14T19:24:00.110202Z",
     "shell.execute_reply.started": "2021-11-14T18:54:39.841944Z"
    },
    "papermill": {
     "duration": 0.174208,
     "end_time": "2021-11-14T19:24:00.111332",
     "exception": false,
     "start_time": "2021-11-14T19:23:59.937124",
     "status": "completed"
    },
    "tags": []
   },
   "outputs": [
    {
     "name": "stdout",
     "output_type": "stream",
     "text": [
      "<class 'pandas.core.frame.DataFrame'>\n",
      "RangeIndex: 133082 entries, 0 to 133081\n",
      "Data columns (total 65 columns):\n",
      " #   Column                                   Non-Null Count   Dtype  \n",
      "---  ------                                   --------------   -----  \n",
      " 0   iso_code                                 133082 non-null  object \n",
      " 1   continent                                124582 non-null  object \n",
      " 2   location                                 133082 non-null  object \n",
      " 3   date                                     133082 non-null  object \n",
      " 4   total_cases                              125824 non-null  float64\n",
      " 5   new_cases                                125822 non-null  float64\n",
      " 6   new_cases_smoothed                       124779 non-null  float64\n",
      " 7   total_deaths                             114691 non-null  float64\n",
      " 8   new_deaths                               114887 non-null  float64\n",
      " 9   new_deaths_smoothed                      124779 non-null  float64\n",
      " 10  total_cases_per_million                  125178 non-null  float64\n",
      " 11  new_cases_per_million                    125176 non-null  float64\n",
      " 12  new_cases_smoothed_per_million           124138 non-null  float64\n",
      " 13  total_deaths_per_million                 114058 non-null  float64\n",
      " 14  new_deaths_per_million                   114254 non-null  float64\n",
      " 15  new_deaths_smoothed_per_million          124138 non-null  float64\n",
      " 16  reproduction_rate                        104981 non-null  float64\n",
      " 17  icu_patients                             15968 non-null   float64\n",
      " 18  icu_patients_per_million                 15968 non-null   float64\n",
      " 19  hosp_patients                            18710 non-null   float64\n",
      " 20  hosp_patients_per_million                18710 non-null   float64\n",
      " 21  weekly_icu_admissions                    1340 non-null    float64\n",
      " 22  weekly_icu_admissions_per_million        1340 non-null    float64\n",
      " 23  weekly_hosp_admissions                   2127 non-null    float64\n",
      " 24  weekly_hosp_admissions_per_million       2127 non-null    float64\n",
      " 25  new_tests                                55661 non-null   float64\n",
      " 26  total_tests                              55985 non-null   float64\n",
      " 27  total_tests_per_thousand                 55985 non-null   float64\n",
      " 28  new_tests_per_thousand                   55661 non-null   float64\n",
      " 29  new_tests_smoothed                       67745 non-null   float64\n",
      " 30  new_tests_smoothed_per_thousand          67745 non-null   float64\n",
      " 31  positive_rate                            63236 non-null   float64\n",
      " 32  tests_per_case                           62576 non-null   float64\n",
      " 33  tests_units                              69763 non-null   object \n",
      " 34  total_vaccinations                       33569 non-null   float64\n",
      " 35  people_vaccinated                        32013 non-null   float64\n",
      " 36  people_fully_vaccinated                  29028 non-null   float64\n",
      " 37  total_boosters                           5942 non-null    float64\n",
      " 38  new_vaccinations                         27945 non-null   float64\n",
      " 39  new_vaccinations_smoothed                59749 non-null   float64\n",
      " 40  total_vaccinations_per_hundred           33569 non-null   float64\n",
      " 41  people_vaccinated_per_hundred            32013 non-null   float64\n",
      " 42  people_fully_vaccinated_per_hundred      29028 non-null   float64\n",
      " 43  total_boosters_per_hundred               5942 non-null    float64\n",
      " 44  new_vaccinations_smoothed_per_million    59749 non-null   float64\n",
      " 45  stringency_index                         108320 non-null  float64\n",
      " 46  population                               132133 non-null  float64\n",
      " 47  population_density                       120466 non-null  float64\n",
      " 48  median_age                               114798 non-null  float64\n",
      " 49  aged_65_older                            113528 non-null  float64\n",
      " 50  aged_70_older                            114171 non-null  float64\n",
      " 51  gdp_per_capita                           115549 non-null  float64\n",
      " 52  extreme_poverty                          77271 non-null   float64\n",
      " 53  cardiovasc_death_rate                    115043 non-null  float64\n",
      " 54  diabetes_prevalence                      118806 non-null  float64\n",
      " 55  female_smokers                           89621 non-null   float64\n",
      " 56  male_smokers                             88325 non-null   float64\n",
      " 57  handwashing_facilities                   57903 non-null   float64\n",
      " 58  hospital_beds_per_thousand               104548 non-null  float64\n",
      " 59  life_expectancy                          123718 non-null  float64\n",
      " 60  human_development_index                  115149 non-null  float64\n",
      " 61  excess_mortality_cumulative_absolute     4656 non-null    float64\n",
      " 62  excess_mortality_cumulative              4656 non-null    float64\n",
      " 63  excess_mortality                         4656 non-null    float64\n",
      " 64  excess_mortality_cumulative_per_million  4656 non-null    float64\n",
      "dtypes: float64(60), object(5)\n",
      "memory usage: 66.0+ MB\n"
     ]
    }
   ],
   "source": [
    "df.info()"
   ]
  },
  {
   "cell_type": "code",
   "execution_count": 9,
   "id": "f8ecac74",
   "metadata": {
    "execution": {
     "iopub.execute_input": "2021-11-14T19:24:00.247911Z",
     "iopub.status.busy": "2021-11-14T19:24:00.247274Z",
     "iopub.status.idle": "2021-11-14T19:24:00.518717Z",
     "shell.execute_reply": "2021-11-14T19:24:00.518082Z",
     "shell.execute_reply.started": "2021-11-14T18:54:39.906806Z"
    },
    "papermill": {
     "duration": 0.353487,
     "end_time": "2021-11-14T19:24:00.518864",
     "exception": false,
     "start_time": "2021-11-14T19:24:00.165377",
     "status": "completed"
    },
    "tags": []
   },
   "outputs": [
    {
     "data": {
      "text/html": [
       "<div>\n",
       "<style scoped>\n",
       "    .dataframe tbody tr th:only-of-type {\n",
       "        vertical-align: middle;\n",
       "    }\n",
       "\n",
       "    .dataframe tbody tr th {\n",
       "        vertical-align: top;\n",
       "    }\n",
       "\n",
       "    .dataframe thead th {\n",
       "        text-align: right;\n",
       "    }\n",
       "</style>\n",
       "<table border=\"1\" class=\"dataframe\">\n",
       "  <thead>\n",
       "    <tr style=\"text-align: right;\">\n",
       "      <th></th>\n",
       "      <th>total_cases</th>\n",
       "      <th>new_cases</th>\n",
       "      <th>new_cases_smoothed</th>\n",
       "      <th>total_deaths</th>\n",
       "      <th>new_deaths</th>\n",
       "      <th>new_deaths_smoothed</th>\n",
       "      <th>total_cases_per_million</th>\n",
       "      <th>new_cases_per_million</th>\n",
       "      <th>new_cases_smoothed_per_million</th>\n",
       "      <th>total_deaths_per_million</th>\n",
       "      <th>...</th>\n",
       "      <th>female_smokers</th>\n",
       "      <th>male_smokers</th>\n",
       "      <th>handwashing_facilities</th>\n",
       "      <th>hospital_beds_per_thousand</th>\n",
       "      <th>life_expectancy</th>\n",
       "      <th>human_development_index</th>\n",
       "      <th>excess_mortality_cumulative_absolute</th>\n",
       "      <th>excess_mortality_cumulative</th>\n",
       "      <th>excess_mortality</th>\n",
       "      <th>excess_mortality_cumulative_per_million</th>\n",
       "    </tr>\n",
       "  </thead>\n",
       "  <tbody>\n",
       "    <tr>\n",
       "      <th>count</th>\n",
       "      <td>1.258240e+05</td>\n",
       "      <td>125822.000000</td>\n",
       "      <td>124779.000000</td>\n",
       "      <td>1.146910e+05</td>\n",
       "      <td>114887.000000</td>\n",
       "      <td>124779.000000</td>\n",
       "      <td>125178.000000</td>\n",
       "      <td>125176.000000</td>\n",
       "      <td>124138.000000</td>\n",
       "      <td>114058.000000</td>\n",
       "      <td>...</td>\n",
       "      <td>89621.000000</td>\n",
       "      <td>88325.000000</td>\n",
       "      <td>57903.000000</td>\n",
       "      <td>104548.000000</td>\n",
       "      <td>123718.000000</td>\n",
       "      <td>115149.000000</td>\n",
       "      <td>4656.000000</td>\n",
       "      <td>4656.000000</td>\n",
       "      <td>4656.000000</td>\n",
       "      <td>4656.000000</td>\n",
       "    </tr>\n",
       "    <tr>\n",
       "      <th>mean</th>\n",
       "      <td>2.049020e+06</td>\n",
       "      <td>8361.113160</td>\n",
       "      <td>8377.084802</td>\n",
       "      <td>5.064728e+04</td>\n",
       "      <td>183.942161</td>\n",
       "      <td>168.581236</td>\n",
       "      <td>19743.521077</td>\n",
       "      <td>86.502110</td>\n",
       "      <td>86.392769</td>\n",
       "      <td>404.596047</td>\n",
       "      <td>...</td>\n",
       "      <td>10.589635</td>\n",
       "      <td>32.748964</td>\n",
       "      <td>50.863232</td>\n",
       "      <td>3.029350</td>\n",
       "      <td>73.260225</td>\n",
       "      <td>0.726195</td>\n",
       "      <td>32052.628565</td>\n",
       "      <td>8.667889</td>\n",
       "      <td>15.883224</td>\n",
       "      <td>781.114218</td>\n",
       "    </tr>\n",
       "    <tr>\n",
       "      <th>std</th>\n",
       "      <td>1.169135e+07</td>\n",
       "      <td>43572.247331</td>\n",
       "      <td>43050.010696</td>\n",
       "      <td>2.599152e+05</td>\n",
       "      <td>871.178922</td>\n",
       "      <td>817.372312</td>\n",
       "      <td>32711.527864</td>\n",
       "      <td>199.383251</td>\n",
       "      <td>168.744384</td>\n",
       "      <td>664.800109</td>\n",
       "      <td>...</td>\n",
       "      <td>10.502611</td>\n",
       "      <td>13.513210</td>\n",
       "      <td>31.821149</td>\n",
       "      <td>2.455487</td>\n",
       "      <td>7.532186</td>\n",
       "      <td>0.150040</td>\n",
       "      <td>90422.651800</td>\n",
       "      <td>15.939853</td>\n",
       "      <td>31.062810</td>\n",
       "      <td>1166.907295</td>\n",
       "    </tr>\n",
       "    <tr>\n",
       "      <th>min</th>\n",
       "      <td>1.000000e+00</td>\n",
       "      <td>-74347.000000</td>\n",
       "      <td>-6223.000000</td>\n",
       "      <td>1.000000e+00</td>\n",
       "      <td>-1918.000000</td>\n",
       "      <td>-232.143000</td>\n",
       "      <td>0.001000</td>\n",
       "      <td>-3125.829000</td>\n",
       "      <td>-272.971000</td>\n",
       "      <td>0.000000</td>\n",
       "      <td>...</td>\n",
       "      <td>0.100000</td>\n",
       "      <td>7.700000</td>\n",
       "      <td>1.188000</td>\n",
       "      <td>0.100000</td>\n",
       "      <td>53.280000</td>\n",
       "      <td>0.394000</td>\n",
       "      <td>-31959.400000</td>\n",
       "      <td>-27.350000</td>\n",
       "      <td>-95.920000</td>\n",
       "      <td>-1749.128494</td>\n",
       "    </tr>\n",
       "    <tr>\n",
       "      <th>25%</th>\n",
       "      <td>2.405000e+03</td>\n",
       "      <td>3.000000</td>\n",
       "      <td>10.429000</td>\n",
       "      <td>8.100000e+01</td>\n",
       "      <td>0.000000</td>\n",
       "      <td>0.143000</td>\n",
       "      <td>413.046750</td>\n",
       "      <td>0.329000</td>\n",
       "      <td>1.657000</td>\n",
       "      <td>11.986000</td>\n",
       "      <td>...</td>\n",
       "      <td>1.900000</td>\n",
       "      <td>21.600000</td>\n",
       "      <td>20.859000</td>\n",
       "      <td>1.300000</td>\n",
       "      <td>67.920000</td>\n",
       "      <td>0.602000</td>\n",
       "      <td>-167.750000</td>\n",
       "      <td>-0.972500</td>\n",
       "      <td>-0.835000</td>\n",
       "      <td>-43.100925</td>\n",
       "    </tr>\n",
       "    <tr>\n",
       "      <th>50%</th>\n",
       "      <td>2.740300e+04</td>\n",
       "      <td>104.000000</td>\n",
       "      <td>130.286000</td>\n",
       "      <td>7.460000e+02</td>\n",
       "      <td>2.000000</td>\n",
       "      <td>2.000000</td>\n",
       "      <td>3191.094500</td>\n",
       "      <td>11.316000</td>\n",
       "      <td>15.890000</td>\n",
       "      <td>80.600000</td>\n",
       "      <td>...</td>\n",
       "      <td>6.300000</td>\n",
       "      <td>31.400000</td>\n",
       "      <td>49.839000</td>\n",
       "      <td>2.400000</td>\n",
       "      <td>74.620000</td>\n",
       "      <td>0.744000</td>\n",
       "      <td>2315.900000</td>\n",
       "      <td>5.215000</td>\n",
       "      <td>6.465000</td>\n",
       "      <td>364.906628</td>\n",
       "    </tr>\n",
       "    <tr>\n",
       "      <th>75%</th>\n",
       "      <td>2.655292e+05</td>\n",
       "      <td>1078.000000</td>\n",
       "      <td>1135.071500</td>\n",
       "      <td>6.499500e+03</td>\n",
       "      <td>22.000000</td>\n",
       "      <td>18.571000</td>\n",
       "      <td>25045.823000</td>\n",
       "      <td>83.545000</td>\n",
       "      <td>93.088750</td>\n",
       "      <td>526.695500</td>\n",
       "      <td>...</td>\n",
       "      <td>19.300000</td>\n",
       "      <td>41.300000</td>\n",
       "      <td>83.241000</td>\n",
       "      <td>4.000000</td>\n",
       "      <td>78.740000</td>\n",
       "      <td>0.845000</td>\n",
       "      <td>20475.200000</td>\n",
       "      <td>13.580000</td>\n",
       "      <td>22.300000</td>\n",
       "      <td>1351.300112</td>\n",
       "    </tr>\n",
       "    <tr>\n",
       "      <th>max</th>\n",
       "      <td>2.529706e+08</td>\n",
       "      <td>907963.000000</td>\n",
       "      <td>826457.571000</td>\n",
       "      <td>5.095849e+06</td>\n",
       "      <td>18007.000000</td>\n",
       "      <td>14703.286000</td>\n",
       "      <td>241588.661000</td>\n",
       "      <td>8620.690000</td>\n",
       "      <td>3385.473000</td>\n",
       "      <td>6013.445000</td>\n",
       "      <td>...</td>\n",
       "      <td>44.000000</td>\n",
       "      <td>78.100000</td>\n",
       "      <td>100.000000</td>\n",
       "      <td>13.800000</td>\n",
       "      <td>86.750000</td>\n",
       "      <td>0.957000</td>\n",
       "      <td>870830.300000</td>\n",
       "      <td>106.840000</td>\n",
       "      <td>373.610000</td>\n",
       "      <td>6157.832804</td>\n",
       "    </tr>\n",
       "  </tbody>\n",
       "</table>\n",
       "<p>8 rows × 60 columns</p>\n",
       "</div>"
      ],
      "text/plain": [
       "        total_cases      new_cases  new_cases_smoothed  total_deaths  \\\n",
       "count  1.258240e+05  125822.000000       124779.000000  1.146910e+05   \n",
       "mean   2.049020e+06    8361.113160         8377.084802  5.064728e+04   \n",
       "std    1.169135e+07   43572.247331        43050.010696  2.599152e+05   \n",
       "min    1.000000e+00  -74347.000000        -6223.000000  1.000000e+00   \n",
       "25%    2.405000e+03       3.000000           10.429000  8.100000e+01   \n",
       "50%    2.740300e+04     104.000000          130.286000  7.460000e+02   \n",
       "75%    2.655292e+05    1078.000000         1135.071500  6.499500e+03   \n",
       "max    2.529706e+08  907963.000000       826457.571000  5.095849e+06   \n",
       "\n",
       "          new_deaths  new_deaths_smoothed  total_cases_per_million  \\\n",
       "count  114887.000000        124779.000000            125178.000000   \n",
       "mean      183.942161           168.581236             19743.521077   \n",
       "std       871.178922           817.372312             32711.527864   \n",
       "min     -1918.000000          -232.143000                 0.001000   \n",
       "25%         0.000000             0.143000               413.046750   \n",
       "50%         2.000000             2.000000              3191.094500   \n",
       "75%        22.000000            18.571000             25045.823000   \n",
       "max     18007.000000         14703.286000            241588.661000   \n",
       "\n",
       "       new_cases_per_million  new_cases_smoothed_per_million  \\\n",
       "count          125176.000000                   124138.000000   \n",
       "mean               86.502110                       86.392769   \n",
       "std               199.383251                      168.744384   \n",
       "min             -3125.829000                     -272.971000   \n",
       "25%                 0.329000                        1.657000   \n",
       "50%                11.316000                       15.890000   \n",
       "75%                83.545000                       93.088750   \n",
       "max              8620.690000                     3385.473000   \n",
       "\n",
       "       total_deaths_per_million  ...  female_smokers  male_smokers  \\\n",
       "count             114058.000000  ...    89621.000000  88325.000000   \n",
       "mean                 404.596047  ...       10.589635     32.748964   \n",
       "std                  664.800109  ...       10.502611     13.513210   \n",
       "min                    0.000000  ...        0.100000      7.700000   \n",
       "25%                   11.986000  ...        1.900000     21.600000   \n",
       "50%                   80.600000  ...        6.300000     31.400000   \n",
       "75%                  526.695500  ...       19.300000     41.300000   \n",
       "max                 6013.445000  ...       44.000000     78.100000   \n",
       "\n",
       "       handwashing_facilities  hospital_beds_per_thousand  life_expectancy  \\\n",
       "count            57903.000000               104548.000000    123718.000000   \n",
       "mean                50.863232                    3.029350        73.260225   \n",
       "std                 31.821149                    2.455487         7.532186   \n",
       "min                  1.188000                    0.100000        53.280000   \n",
       "25%                 20.859000                    1.300000        67.920000   \n",
       "50%                 49.839000                    2.400000        74.620000   \n",
       "75%                 83.241000                    4.000000        78.740000   \n",
       "max                100.000000                   13.800000        86.750000   \n",
       "\n",
       "       human_development_index  excess_mortality_cumulative_absolute  \\\n",
       "count            115149.000000                           4656.000000   \n",
       "mean                  0.726195                          32052.628565   \n",
       "std                   0.150040                          90422.651800   \n",
       "min                   0.394000                         -31959.400000   \n",
       "25%                   0.602000                           -167.750000   \n",
       "50%                   0.744000                           2315.900000   \n",
       "75%                   0.845000                          20475.200000   \n",
       "max                   0.957000                         870830.300000   \n",
       "\n",
       "       excess_mortality_cumulative  excess_mortality  \\\n",
       "count                  4656.000000       4656.000000   \n",
       "mean                      8.667889         15.883224   \n",
       "std                      15.939853         31.062810   \n",
       "min                     -27.350000        -95.920000   \n",
       "25%                      -0.972500         -0.835000   \n",
       "50%                       5.215000          6.465000   \n",
       "75%                      13.580000         22.300000   \n",
       "max                     106.840000        373.610000   \n",
       "\n",
       "       excess_mortality_cumulative_per_million  \n",
       "count                              4656.000000  \n",
       "mean                                781.114218  \n",
       "std                                1166.907295  \n",
       "min                               -1749.128494  \n",
       "25%                                 -43.100925  \n",
       "50%                                 364.906628  \n",
       "75%                                1351.300112  \n",
       "max                                6157.832804  \n",
       "\n",
       "[8 rows x 60 columns]"
      ]
     },
     "execution_count": 9,
     "metadata": {},
     "output_type": "execute_result"
    }
   ],
   "source": [
    "df.describe()"
   ]
  },
  {
   "cell_type": "code",
   "execution_count": null,
   "id": "5c773d7f",
   "metadata": {
    "papermill": {
     "duration": 0.053804,
     "end_time": "2021-11-14T19:24:00.627154",
     "exception": false,
     "start_time": "2021-11-14T19:24:00.573350",
     "status": "completed"
    },
    "tags": []
   },
   "outputs": [],
   "source": []
  },
  {
   "cell_type": "markdown",
   "id": "69a368e8",
   "metadata": {
    "papermill": {
     "duration": 0.055185,
     "end_time": "2021-11-14T19:24:00.737006",
     "exception": false,
     "start_time": "2021-11-14T19:24:00.681821",
     "status": "completed"
    },
    "tags": []
   },
   "source": [
    "=========="
   ]
  },
  {
   "cell_type": "markdown",
   "id": "a8521eab",
   "metadata": {
    "papermill": {
     "duration": 0.054207,
     "end_time": "2021-11-14T19:24:00.846059",
     "exception": false,
     "start_time": "2021-11-14T19:24:00.791852",
     "status": "completed"
    },
    "tags": []
   },
   "source": [
    "## EXPLORING WORLD DATA"
   ]
  },
  {
   "cell_type": "markdown",
   "id": "57d878ce",
   "metadata": {
    "papermill": {
     "duration": 0.055576,
     "end_time": "2021-11-14T19:24:00.956120",
     "exception": false,
     "start_time": "2021-11-14T19:24:00.900544",
     "status": "completed"
    },
    "tags": []
   },
   "source": [
    "### Listinf all countries / regions in our data"
   ]
  },
  {
   "cell_type": "code",
   "execution_count": 10,
   "id": "3f316dbd",
   "metadata": {
    "execution": {
     "iopub.execute_input": "2021-11-14T19:24:01.080091Z",
     "iopub.status.busy": "2021-11-14T19:24:01.079312Z",
     "iopub.status.idle": "2021-11-14T19:24:01.087061Z",
     "shell.execute_reply": "2021-11-14T19:24:01.086421Z",
     "shell.execute_reply.started": "2021-11-14T18:54:40.191272Z"
    },
    "papermill": {
     "duration": 0.07537,
     "end_time": "2021-11-14T19:24:01.087225",
     "exception": false,
     "start_time": "2021-11-14T19:24:01.011855",
     "status": "completed"
    },
    "tags": []
   },
   "outputs": [
    {
     "data": {
      "text/plain": [
       "array(['Afghanistan', 'Africa', 'Albania', 'Algeria', 'Andorra', 'Angola',\n",
       "       'Anguilla', 'Antigua and Barbuda', 'Argentina', 'Armenia', 'Aruba',\n",
       "       'Asia', 'Australia', 'Austria', 'Azerbaijan', 'Bahamas', 'Bahrain',\n",
       "       'Bangladesh', 'Barbados', 'Belarus', 'Belgium', 'Belize', 'Benin',\n",
       "       'Bermuda', 'Bhutan', 'Bolivia', 'Bonaire Sint Eustatius and Saba',\n",
       "       'Bosnia and Herzegovina', 'Botswana', 'Brazil',\n",
       "       'British Virgin Islands', 'Brunei', 'Bulgaria', 'Burkina Faso',\n",
       "       'Burundi', 'Cambodia', 'Cameroon', 'Canada', 'Cape Verde',\n",
       "       'Cayman Islands', 'Central African Republic', 'Chad', 'Chile',\n",
       "       'China', 'Colombia', 'Comoros', 'Congo', 'Cook Islands',\n",
       "       'Costa Rica', \"Cote d'Ivoire\", 'Croatia', 'Cuba', 'Curacao',\n",
       "       'Cyprus', 'Czechia', 'Democratic Republic of Congo', 'Denmark',\n",
       "       'Djibouti', 'Dominica', 'Dominican Republic', 'Ecuador', 'Egypt',\n",
       "       'El Salvador', 'Equatorial Guinea', 'Eritrea', 'Estonia',\n",
       "       'Eswatini', 'Ethiopia', 'Europe', 'European Union',\n",
       "       'Faeroe Islands', 'Falkland Islands', 'Fiji', 'Finland', 'France',\n",
       "       'French Polynesia', 'Gabon', 'Gambia', 'Georgia', 'Germany',\n",
       "       'Ghana', 'Gibraltar', 'Greece', 'Greenland', 'Grenada',\n",
       "       'Guatemala', 'Guernsey', 'Guinea', 'Guinea-Bissau', 'Guyana',\n",
       "       'Haiti', 'High income', 'Honduras', 'Hong Kong', 'Hungary',\n",
       "       'Iceland', 'India', 'Indonesia', 'International', 'Iran', 'Iraq',\n",
       "       'Ireland', 'Isle of Man', 'Israel', 'Italy', 'Jamaica', 'Japan',\n",
       "       'Jersey', 'Jordan', 'Kazakhstan', 'Kenya', 'Kiribati', 'Kosovo',\n",
       "       'Kuwait', 'Kyrgyzstan', 'Laos', 'Latvia', 'Lebanon', 'Lesotho',\n",
       "       'Liberia', 'Libya', 'Liechtenstein', 'Lithuania', 'Low income',\n",
       "       'Lower middle income', 'Luxembourg', 'Macao', 'Madagascar',\n",
       "       'Malawi', 'Malaysia', 'Maldives', 'Mali', 'Malta',\n",
       "       'Marshall Islands', 'Mauritania', 'Mauritius', 'Mexico',\n",
       "       'Micronesia (country)', 'Moldova', 'Monaco', 'Mongolia',\n",
       "       'Montenegro', 'Montserrat', 'Morocco', 'Mozambique', 'Myanmar',\n",
       "       'Namibia', 'Nauru', 'Nepal', 'Netherlands', 'New Caledonia',\n",
       "       'New Zealand', 'Nicaragua', 'Niger', 'Nigeria', 'Niue',\n",
       "       'North America', 'North Macedonia', 'Northern Cyprus', 'Norway',\n",
       "       'Oceania', 'Oman', 'Pakistan', 'Palau', 'Palestine', 'Panama',\n",
       "       'Papua New Guinea', 'Paraguay', 'Peru', 'Philippines', 'Pitcairn',\n",
       "       'Poland', 'Portugal', 'Qatar', 'Romania', 'Russia', 'Rwanda',\n",
       "       'Saint Helena', 'Saint Kitts and Nevis', 'Saint Lucia',\n",
       "       'Saint Vincent and the Grenadines', 'Samoa', 'San Marino',\n",
       "       'Sao Tome and Principe', 'Saudi Arabia', 'Senegal', 'Serbia',\n",
       "       'Seychelles', 'Sierra Leone', 'Singapore',\n",
       "       'Sint Maarten (Dutch part)', 'Slovakia', 'Slovenia',\n",
       "       'Solomon Islands', 'Somalia', 'South Africa', 'South America',\n",
       "       'South Korea', 'South Sudan', 'Spain', 'Sri Lanka', 'Sudan',\n",
       "       'Suriname', 'Sweden', 'Switzerland', 'Syria', 'Taiwan',\n",
       "       'Tajikistan', 'Tanzania', 'Thailand', 'Timor', 'Togo', 'Tokelau',\n",
       "       'Tonga', 'Trinidad and Tobago', 'Tunisia', 'Turkey',\n",
       "       'Turkmenistan', 'Turks and Caicos Islands', 'Tuvalu', 'Uganda',\n",
       "       'Ukraine', 'United Arab Emirates', 'United Kingdom',\n",
       "       'United States', 'Upper middle income', 'Uruguay', 'Uzbekistan',\n",
       "       'Vanuatu', 'Vatican', 'Venezuela', 'Vietnam', 'Wallis and Futuna',\n",
       "       'World', 'Yemen', 'Zambia', 'Zimbabwe'], dtype=object)"
      ]
     },
     "execution_count": 10,
     "metadata": {},
     "output_type": "execute_result"
    }
   ],
   "source": [
    "df['location'].unique()"
   ]
  },
  {
   "cell_type": "code",
   "execution_count": 11,
   "id": "1e4c18c2",
   "metadata": {
    "execution": {
     "iopub.execute_input": "2021-11-14T19:24:01.212471Z",
     "iopub.status.busy": "2021-11-14T19:24:01.202128Z",
     "iopub.status.idle": "2021-11-14T19:24:01.218889Z",
     "shell.execute_reply": "2021-11-14T19:24:01.219469Z",
     "shell.execute_reply.started": "2021-11-14T18:54:40.206383Z"
    },
    "papermill": {
     "duration": 0.076268,
     "end_time": "2021-11-14T19:24:01.219646",
     "exception": false,
     "start_time": "2021-11-14T19:24:01.143378",
     "status": "completed"
    },
    "tags": []
   },
   "outputs": [
    {
     "data": {
      "text/plain": [
       "237"
      ]
     },
     "execution_count": 11,
     "metadata": {},
     "output_type": "execute_result"
    }
   ],
   "source": [
    "df['location'].nunique()"
   ]
  },
  {
   "cell_type": "markdown",
   "id": "0c92bae6",
   "metadata": {
    "papermill": {
     "duration": 0.056024,
     "end_time": "2021-11-14T19:24:01.330894",
     "exception": false,
     "start_time": "2021-11-14T19:24:01.274870",
     "status": "completed"
    },
    "tags": []
   },
   "source": [
    "### Selecting the 'World' data"
   ]
  },
  {
   "cell_type": "code",
   "execution_count": 12,
   "id": "4118723e",
   "metadata": {
    "execution": {
     "iopub.execute_input": "2021-11-14T19:24:01.444315Z",
     "iopub.status.busy": "2021-11-14T19:24:01.443582Z",
     "iopub.status.idle": "2021-11-14T19:24:01.499220Z",
     "shell.execute_reply": "2021-11-14T19:24:01.499746Z",
     "shell.execute_reply.started": "2021-11-14T18:54:40.220399Z"
    },
    "papermill": {
     "duration": 0.113904,
     "end_time": "2021-11-14T19:24:01.499916",
     "exception": false,
     "start_time": "2021-11-14T19:24:01.386012",
     "status": "completed"
    },
    "tags": []
   },
   "outputs": [
    {
     "data": {
      "text/html": [
       "<div>\n",
       "<style scoped>\n",
       "    .dataframe tbody tr th:only-of-type {\n",
       "        vertical-align: middle;\n",
       "    }\n",
       "\n",
       "    .dataframe tbody tr th {\n",
       "        vertical-align: top;\n",
       "    }\n",
       "\n",
       "    .dataframe thead th {\n",
       "        text-align: right;\n",
       "    }\n",
       "</style>\n",
       "<table border=\"1\" class=\"dataframe\">\n",
       "  <thead>\n",
       "    <tr style=\"text-align: right;\">\n",
       "      <th></th>\n",
       "      <th>iso_code</th>\n",
       "      <th>continent</th>\n",
       "      <th>location</th>\n",
       "      <th>date</th>\n",
       "      <th>total_cases</th>\n",
       "      <th>new_cases</th>\n",
       "      <th>new_cases_smoothed</th>\n",
       "      <th>total_deaths</th>\n",
       "      <th>new_deaths</th>\n",
       "      <th>new_deaths_smoothed</th>\n",
       "      <th>...</th>\n",
       "      <th>female_smokers</th>\n",
       "      <th>male_smokers</th>\n",
       "      <th>handwashing_facilities</th>\n",
       "      <th>hospital_beds_per_thousand</th>\n",
       "      <th>life_expectancy</th>\n",
       "      <th>human_development_index</th>\n",
       "      <th>excess_mortality_cumulative_absolute</th>\n",
       "      <th>excess_mortality_cumulative</th>\n",
       "      <th>excess_mortality</th>\n",
       "      <th>excess_mortality_cumulative_per_million</th>\n",
       "    </tr>\n",
       "  </thead>\n",
       "  <tbody>\n",
       "    <tr>\n",
       "      <th>130627</th>\n",
       "      <td>OWID_WRL</td>\n",
       "      <td>NaN</td>\n",
       "      <td>World</td>\n",
       "      <td>2020-01-22</td>\n",
       "      <td>557.0</td>\n",
       "      <td>0.0</td>\n",
       "      <td>NaN</td>\n",
       "      <td>17.0</td>\n",
       "      <td>0.0</td>\n",
       "      <td>NaN</td>\n",
       "      <td>...</td>\n",
       "      <td>6.434</td>\n",
       "      <td>34.635</td>\n",
       "      <td>60.13</td>\n",
       "      <td>2.705</td>\n",
       "      <td>72.58</td>\n",
       "      <td>0.737</td>\n",
       "      <td>NaN</td>\n",
       "      <td>NaN</td>\n",
       "      <td>NaN</td>\n",
       "      <td>NaN</td>\n",
       "    </tr>\n",
       "    <tr>\n",
       "      <th>130628</th>\n",
       "      <td>OWID_WRL</td>\n",
       "      <td>NaN</td>\n",
       "      <td>World</td>\n",
       "      <td>2020-01-23</td>\n",
       "      <td>655.0</td>\n",
       "      <td>98.0</td>\n",
       "      <td>NaN</td>\n",
       "      <td>18.0</td>\n",
       "      <td>1.0</td>\n",
       "      <td>NaN</td>\n",
       "      <td>...</td>\n",
       "      <td>6.434</td>\n",
       "      <td>34.635</td>\n",
       "      <td>60.13</td>\n",
       "      <td>2.705</td>\n",
       "      <td>72.58</td>\n",
       "      <td>0.737</td>\n",
       "      <td>NaN</td>\n",
       "      <td>NaN</td>\n",
       "      <td>NaN</td>\n",
       "      <td>NaN</td>\n",
       "    </tr>\n",
       "    <tr>\n",
       "      <th>130629</th>\n",
       "      <td>OWID_WRL</td>\n",
       "      <td>NaN</td>\n",
       "      <td>World</td>\n",
       "      <td>2020-01-24</td>\n",
       "      <td>941.0</td>\n",
       "      <td>286.0</td>\n",
       "      <td>NaN</td>\n",
       "      <td>26.0</td>\n",
       "      <td>8.0</td>\n",
       "      <td>NaN</td>\n",
       "      <td>...</td>\n",
       "      <td>6.434</td>\n",
       "      <td>34.635</td>\n",
       "      <td>60.13</td>\n",
       "      <td>2.705</td>\n",
       "      <td>72.58</td>\n",
       "      <td>0.737</td>\n",
       "      <td>NaN</td>\n",
       "      <td>NaN</td>\n",
       "      <td>NaN</td>\n",
       "      <td>NaN</td>\n",
       "    </tr>\n",
       "    <tr>\n",
       "      <th>130630</th>\n",
       "      <td>OWID_WRL</td>\n",
       "      <td>NaN</td>\n",
       "      <td>World</td>\n",
       "      <td>2020-01-25</td>\n",
       "      <td>1434.0</td>\n",
       "      <td>493.0</td>\n",
       "      <td>NaN</td>\n",
       "      <td>42.0</td>\n",
       "      <td>16.0</td>\n",
       "      <td>NaN</td>\n",
       "      <td>...</td>\n",
       "      <td>6.434</td>\n",
       "      <td>34.635</td>\n",
       "      <td>60.13</td>\n",
       "      <td>2.705</td>\n",
       "      <td>72.58</td>\n",
       "      <td>0.737</td>\n",
       "      <td>NaN</td>\n",
       "      <td>NaN</td>\n",
       "      <td>NaN</td>\n",
       "      <td>NaN</td>\n",
       "    </tr>\n",
       "    <tr>\n",
       "      <th>130631</th>\n",
       "      <td>OWID_WRL</td>\n",
       "      <td>NaN</td>\n",
       "      <td>World</td>\n",
       "      <td>2020-01-26</td>\n",
       "      <td>2118.0</td>\n",
       "      <td>684.0</td>\n",
       "      <td>NaN</td>\n",
       "      <td>56.0</td>\n",
       "      <td>14.0</td>\n",
       "      <td>NaN</td>\n",
       "      <td>...</td>\n",
       "      <td>6.434</td>\n",
       "      <td>34.635</td>\n",
       "      <td>60.13</td>\n",
       "      <td>2.705</td>\n",
       "      <td>72.58</td>\n",
       "      <td>0.737</td>\n",
       "      <td>NaN</td>\n",
       "      <td>NaN</td>\n",
       "      <td>NaN</td>\n",
       "      <td>NaN</td>\n",
       "    </tr>\n",
       "    <tr>\n",
       "      <th>...</th>\n",
       "      <td>...</td>\n",
       "      <td>...</td>\n",
       "      <td>...</td>\n",
       "      <td>...</td>\n",
       "      <td>...</td>\n",
       "      <td>...</td>\n",
       "      <td>...</td>\n",
       "      <td>...</td>\n",
       "      <td>...</td>\n",
       "      <td>...</td>\n",
       "      <td>...</td>\n",
       "      <td>...</td>\n",
       "      <td>...</td>\n",
       "      <td>...</td>\n",
       "      <td>...</td>\n",
       "      <td>...</td>\n",
       "      <td>...</td>\n",
       "      <td>...</td>\n",
       "      <td>...</td>\n",
       "      <td>...</td>\n",
       "      <td>...</td>\n",
       "    </tr>\n",
       "    <tr>\n",
       "      <th>131284</th>\n",
       "      <td>OWID_WRL</td>\n",
       "      <td>NaN</td>\n",
       "      <td>World</td>\n",
       "      <td>2021-11-09</td>\n",
       "      <td>250850973.0</td>\n",
       "      <td>479447.0</td>\n",
       "      <td>467277.714</td>\n",
       "      <td>5064692.0</td>\n",
       "      <td>8164.0</td>\n",
       "      <td>7183.857</td>\n",
       "      <td>...</td>\n",
       "      <td>6.434</td>\n",
       "      <td>34.635</td>\n",
       "      <td>60.13</td>\n",
       "      <td>2.705</td>\n",
       "      <td>72.58</td>\n",
       "      <td>0.737</td>\n",
       "      <td>NaN</td>\n",
       "      <td>NaN</td>\n",
       "      <td>NaN</td>\n",
       "      <td>NaN</td>\n",
       "    </tr>\n",
       "    <tr>\n",
       "      <th>131285</th>\n",
       "      <td>OWID_WRL</td>\n",
       "      <td>NaN</td>\n",
       "      <td>World</td>\n",
       "      <td>2021-11-10</td>\n",
       "      <td>251424349.0</td>\n",
       "      <td>573376.0</td>\n",
       "      <td>475118.429</td>\n",
       "      <td>5072805.0</td>\n",
       "      <td>8113.0</td>\n",
       "      <td>7155.429</td>\n",
       "      <td>...</td>\n",
       "      <td>6.434</td>\n",
       "      <td>34.635</td>\n",
       "      <td>60.13</td>\n",
       "      <td>2.705</td>\n",
       "      <td>72.58</td>\n",
       "      <td>0.737</td>\n",
       "      <td>NaN</td>\n",
       "      <td>NaN</td>\n",
       "      <td>NaN</td>\n",
       "      <td>NaN</td>\n",
       "    </tr>\n",
       "    <tr>\n",
       "      <th>131286</th>\n",
       "      <td>OWID_WRL</td>\n",
       "      <td>NaN</td>\n",
       "      <td>World</td>\n",
       "      <td>2021-11-11</td>\n",
       "      <td>251941011.0</td>\n",
       "      <td>516662.0</td>\n",
       "      <td>473832.714</td>\n",
       "      <td>5080351.0</td>\n",
       "      <td>7546.0</td>\n",
       "      <td>7140.429</td>\n",
       "      <td>...</td>\n",
       "      <td>6.434</td>\n",
       "      <td>34.635</td>\n",
       "      <td>60.13</td>\n",
       "      <td>2.705</td>\n",
       "      <td>72.58</td>\n",
       "      <td>0.737</td>\n",
       "      <td>NaN</td>\n",
       "      <td>NaN</td>\n",
       "      <td>NaN</td>\n",
       "      <td>NaN</td>\n",
       "    </tr>\n",
       "    <tr>\n",
       "      <th>131287</th>\n",
       "      <td>OWID_WRL</td>\n",
       "      <td>NaN</td>\n",
       "      <td>World</td>\n",
       "      <td>2021-11-12</td>\n",
       "      <td>252526354.0</td>\n",
       "      <td>585343.0</td>\n",
       "      <td>484151.286</td>\n",
       "      <td>5089008.0</td>\n",
       "      <td>8657.0</td>\n",
       "      <td>7155.143</td>\n",
       "      <td>...</td>\n",
       "      <td>6.434</td>\n",
       "      <td>34.635</td>\n",
       "      <td>60.13</td>\n",
       "      <td>2.705</td>\n",
       "      <td>72.58</td>\n",
       "      <td>0.737</td>\n",
       "      <td>NaN</td>\n",
       "      <td>NaN</td>\n",
       "      <td>NaN</td>\n",
       "      <td>NaN</td>\n",
       "    </tr>\n",
       "    <tr>\n",
       "      <th>131288</th>\n",
       "      <td>OWID_WRL</td>\n",
       "      <td>NaN</td>\n",
       "      <td>World</td>\n",
       "      <td>2021-11-13</td>\n",
       "      <td>252970612.0</td>\n",
       "      <td>444258.0</td>\n",
       "      <td>489132.429</td>\n",
       "      <td>5095849.0</td>\n",
       "      <td>6841.0</td>\n",
       "      <td>7203.286</td>\n",
       "      <td>...</td>\n",
       "      <td>6.434</td>\n",
       "      <td>34.635</td>\n",
       "      <td>60.13</td>\n",
       "      <td>2.705</td>\n",
       "      <td>72.58</td>\n",
       "      <td>0.737</td>\n",
       "      <td>NaN</td>\n",
       "      <td>NaN</td>\n",
       "      <td>NaN</td>\n",
       "      <td>NaN</td>\n",
       "    </tr>\n",
       "  </tbody>\n",
       "</table>\n",
       "<p>662 rows × 65 columns</p>\n",
       "</div>"
      ],
      "text/plain": [
       "        iso_code continent location        date  total_cases  new_cases  \\\n",
       "130627  OWID_WRL       NaN    World  2020-01-22        557.0        0.0   \n",
       "130628  OWID_WRL       NaN    World  2020-01-23        655.0       98.0   \n",
       "130629  OWID_WRL       NaN    World  2020-01-24        941.0      286.0   \n",
       "130630  OWID_WRL       NaN    World  2020-01-25       1434.0      493.0   \n",
       "130631  OWID_WRL       NaN    World  2020-01-26       2118.0      684.0   \n",
       "...          ...       ...      ...         ...          ...        ...   \n",
       "131284  OWID_WRL       NaN    World  2021-11-09  250850973.0   479447.0   \n",
       "131285  OWID_WRL       NaN    World  2021-11-10  251424349.0   573376.0   \n",
       "131286  OWID_WRL       NaN    World  2021-11-11  251941011.0   516662.0   \n",
       "131287  OWID_WRL       NaN    World  2021-11-12  252526354.0   585343.0   \n",
       "131288  OWID_WRL       NaN    World  2021-11-13  252970612.0   444258.0   \n",
       "\n",
       "        new_cases_smoothed  total_deaths  new_deaths  new_deaths_smoothed  \\\n",
       "130627                 NaN          17.0         0.0                  NaN   \n",
       "130628                 NaN          18.0         1.0                  NaN   \n",
       "130629                 NaN          26.0         8.0                  NaN   \n",
       "130630                 NaN          42.0        16.0                  NaN   \n",
       "130631                 NaN          56.0        14.0                  NaN   \n",
       "...                    ...           ...         ...                  ...   \n",
       "131284          467277.714     5064692.0      8164.0             7183.857   \n",
       "131285          475118.429     5072805.0      8113.0             7155.429   \n",
       "131286          473832.714     5080351.0      7546.0             7140.429   \n",
       "131287          484151.286     5089008.0      8657.0             7155.143   \n",
       "131288          489132.429     5095849.0      6841.0             7203.286   \n",
       "\n",
       "        ...  female_smokers  male_smokers  handwashing_facilities  \\\n",
       "130627  ...           6.434        34.635                   60.13   \n",
       "130628  ...           6.434        34.635                   60.13   \n",
       "130629  ...           6.434        34.635                   60.13   \n",
       "130630  ...           6.434        34.635                   60.13   \n",
       "130631  ...           6.434        34.635                   60.13   \n",
       "...     ...             ...           ...                     ...   \n",
       "131284  ...           6.434        34.635                   60.13   \n",
       "131285  ...           6.434        34.635                   60.13   \n",
       "131286  ...           6.434        34.635                   60.13   \n",
       "131287  ...           6.434        34.635                   60.13   \n",
       "131288  ...           6.434        34.635                   60.13   \n",
       "\n",
       "        hospital_beds_per_thousand  life_expectancy  human_development_index  \\\n",
       "130627                       2.705            72.58                    0.737   \n",
       "130628                       2.705            72.58                    0.737   \n",
       "130629                       2.705            72.58                    0.737   \n",
       "130630                       2.705            72.58                    0.737   \n",
       "130631                       2.705            72.58                    0.737   \n",
       "...                            ...              ...                      ...   \n",
       "131284                       2.705            72.58                    0.737   \n",
       "131285                       2.705            72.58                    0.737   \n",
       "131286                       2.705            72.58                    0.737   \n",
       "131287                       2.705            72.58                    0.737   \n",
       "131288                       2.705            72.58                    0.737   \n",
       "\n",
       "        excess_mortality_cumulative_absolute  excess_mortality_cumulative  \\\n",
       "130627                                   NaN                          NaN   \n",
       "130628                                   NaN                          NaN   \n",
       "130629                                   NaN                          NaN   \n",
       "130630                                   NaN                          NaN   \n",
       "130631                                   NaN                          NaN   \n",
       "...                                      ...                          ...   \n",
       "131284                                   NaN                          NaN   \n",
       "131285                                   NaN                          NaN   \n",
       "131286                                   NaN                          NaN   \n",
       "131287                                   NaN                          NaN   \n",
       "131288                                   NaN                          NaN   \n",
       "\n",
       "        excess_mortality  excess_mortality_cumulative_per_million  \n",
       "130627               NaN                                      NaN  \n",
       "130628               NaN                                      NaN  \n",
       "130629               NaN                                      NaN  \n",
       "130630               NaN                                      NaN  \n",
       "130631               NaN                                      NaN  \n",
       "...                  ...                                      ...  \n",
       "131284               NaN                                      NaN  \n",
       "131285               NaN                                      NaN  \n",
       "131286               NaN                                      NaN  \n",
       "131287               NaN                                      NaN  \n",
       "131288               NaN                                      NaN  \n",
       "\n",
       "[662 rows x 65 columns]"
      ]
     },
     "execution_count": 12,
     "metadata": {},
     "output_type": "execute_result"
    }
   ],
   "source": [
    "df_world = df[df['location'] == 'World']\n",
    "df_world"
   ]
  },
  {
   "cell_type": "markdown",
   "id": "37238a67",
   "metadata": {
    "papermill": {
     "duration": 0.055443,
     "end_time": "2021-11-14T19:24:01.612084",
     "exception": false,
     "start_time": "2021-11-14T19:24:01.556641",
     "status": "completed"
    },
    "tags": []
   },
   "source": [
    "### Finding the date of the maximum number of deaths all over the world"
   ]
  },
  {
   "cell_type": "code",
   "execution_count": 13,
   "id": "d8f8189c",
   "metadata": {
    "execution": {
     "iopub.execute_input": "2021-11-14T19:24:01.738753Z",
     "iopub.status.busy": "2021-11-14T19:24:01.737885Z",
     "iopub.status.idle": "2021-11-14T19:24:01.750800Z",
     "shell.execute_reply": "2021-11-14T19:24:01.750292Z",
     "shell.execute_reply.started": "2021-11-14T18:54:40.259962Z"
    },
    "papermill": {
     "duration": 0.082839,
     "end_time": "2021-11-14T19:24:01.751092",
     "exception": false,
     "start_time": "2021-11-14T19:24:01.668253",
     "status": "completed"
    },
    "tags": []
   },
   "outputs": [
    {
     "data": {
      "text/html": [
       "<div>\n",
       "<style scoped>\n",
       "    .dataframe tbody tr th:only-of-type {\n",
       "        vertical-align: middle;\n",
       "    }\n",
       "\n",
       "    .dataframe tbody tr th {\n",
       "        vertical-align: top;\n",
       "    }\n",
       "\n",
       "    .dataframe thead th {\n",
       "        text-align: right;\n",
       "    }\n",
       "</style>\n",
       "<table border=\"1\" class=\"dataframe\">\n",
       "  <thead>\n",
       "    <tr style=\"text-align: right;\">\n",
       "      <th></th>\n",
       "      <th>iso_code</th>\n",
       "      <th>continent</th>\n",
       "      <th>location</th>\n",
       "      <th>date</th>\n",
       "      <th>total_cases</th>\n",
       "      <th>new_cases</th>\n",
       "      <th>new_cases_smoothed</th>\n",
       "      <th>total_deaths</th>\n",
       "      <th>new_deaths</th>\n",
       "      <th>new_deaths_smoothed</th>\n",
       "      <th>...</th>\n",
       "      <th>female_smokers</th>\n",
       "      <th>male_smokers</th>\n",
       "      <th>handwashing_facilities</th>\n",
       "      <th>hospital_beds_per_thousand</th>\n",
       "      <th>life_expectancy</th>\n",
       "      <th>human_development_index</th>\n",
       "      <th>excess_mortality_cumulative_absolute</th>\n",
       "      <th>excess_mortality_cumulative</th>\n",
       "      <th>excess_mortality</th>\n",
       "      <th>excess_mortality_cumulative_per_million</th>\n",
       "    </tr>\n",
       "  </thead>\n",
       "  <tbody>\n",
       "    <tr>\n",
       "      <th>130991</th>\n",
       "      <td>OWID_WRL</td>\n",
       "      <td>NaN</td>\n",
       "      <td>World</td>\n",
       "      <td>2021-01-20</td>\n",
       "      <td>97011931.0</td>\n",
       "      <td>695064.0</td>\n",
       "      <td>643800.571</td>\n",
       "      <td>2140926.0</td>\n",
       "      <td>18007.0</td>\n",
       "      <td>13965.857</td>\n",
       "      <td>...</td>\n",
       "      <td>6.434</td>\n",
       "      <td>34.635</td>\n",
       "      <td>60.13</td>\n",
       "      <td>2.705</td>\n",
       "      <td>72.58</td>\n",
       "      <td>0.737</td>\n",
       "      <td>NaN</td>\n",
       "      <td>NaN</td>\n",
       "      <td>NaN</td>\n",
       "      <td>NaN</td>\n",
       "    </tr>\n",
       "  </tbody>\n",
       "</table>\n",
       "<p>1 rows × 65 columns</p>\n",
       "</div>"
      ],
      "text/plain": [
       "        iso_code continent location        date  total_cases  new_cases  \\\n",
       "130991  OWID_WRL       NaN    World  2021-01-20   97011931.0   695064.0   \n",
       "\n",
       "        new_cases_smoothed  total_deaths  new_deaths  new_deaths_smoothed  \\\n",
       "130991          643800.571     2140926.0     18007.0            13965.857   \n",
       "\n",
       "        ...  female_smokers  male_smokers  handwashing_facilities  \\\n",
       "130991  ...           6.434        34.635                   60.13   \n",
       "\n",
       "        hospital_beds_per_thousand  life_expectancy  human_development_index  \\\n",
       "130991                       2.705            72.58                    0.737   \n",
       "\n",
       "        excess_mortality_cumulative_absolute  excess_mortality_cumulative  \\\n",
       "130991                                   NaN                          NaN   \n",
       "\n",
       "        excess_mortality  excess_mortality_cumulative_per_million  \n",
       "130991               NaN                                      NaN  \n",
       "\n",
       "[1 rows x 65 columns]"
      ]
     },
     "execution_count": 13,
     "metadata": {},
     "output_type": "execute_result"
    }
   ],
   "source": [
    "df_world[df_world['new_deaths'] == df_world['new_deaths'].max()]#['date']"
   ]
  },
  {
   "cell_type": "code",
   "execution_count": 14,
   "id": "ee525759",
   "metadata": {
    "execution": {
     "iopub.execute_input": "2021-11-14T19:24:01.871524Z",
     "iopub.status.busy": "2021-11-14T19:24:01.869823Z",
     "iopub.status.idle": "2021-11-14T19:24:01.876341Z",
     "shell.execute_reply": "2021-11-14T19:24:01.875676Z",
     "shell.execute_reply.started": "2021-11-14T18:54:40.283563Z"
    },
    "papermill": {
     "duration": 0.068479,
     "end_time": "2021-11-14T19:24:01.876513",
     "exception": false,
     "start_time": "2021-11-14T19:24:01.808034",
     "status": "completed"
    },
    "tags": []
   },
   "outputs": [
    {
     "data": {
      "text/plain": [
       "'2021-01-20'"
      ]
     },
     "execution_count": 14,
     "metadata": {},
     "output_type": "execute_result"
    }
   ],
   "source": [
    "df_world.loc[df_world['new_deaths'].idxmax()]['date']"
   ]
  },
  {
   "cell_type": "markdown",
   "id": "ad17cdf3",
   "metadata": {
    "papermill": {
     "duration": 0.057577,
     "end_time": "2021-11-14T19:24:01.991730",
     "exception": false,
     "start_time": "2021-11-14T19:24:01.934153",
     "status": "completed"
    },
    "tags": []
   },
   "source": [
    "### Creating a summary table for the most recent date all over the world"
   ]
  },
  {
   "cell_type": "code",
   "execution_count": 15,
   "id": "b6dfcb3a",
   "metadata": {
    "execution": {
     "iopub.execute_input": "2021-11-14T19:24:02.130063Z",
     "iopub.status.busy": "2021-11-14T19:24:02.129019Z",
     "iopub.status.idle": "2021-11-14T19:24:02.133351Z",
     "shell.execute_reply": "2021-11-14T19:24:02.132836Z",
     "shell.execute_reply.started": "2021-11-14T18:54:40.292054Z"
    },
    "papermill": {
     "duration": 0.084093,
     "end_time": "2021-11-14T19:24:02.133497",
     "exception": false,
     "start_time": "2021-11-14T19:24:02.049404",
     "status": "completed"
    },
    "tags": []
   },
   "outputs": [
    {
     "data": {
      "text/html": [
       "<div>\n",
       "<style scoped>\n",
       "    .dataframe tbody tr th:only-of-type {\n",
       "        vertical-align: middle;\n",
       "    }\n",
       "\n",
       "    .dataframe tbody tr th {\n",
       "        vertical-align: top;\n",
       "    }\n",
       "\n",
       "    .dataframe thead th {\n",
       "        text-align: right;\n",
       "    }\n",
       "</style>\n",
       "<table border=\"1\" class=\"dataframe\">\n",
       "  <thead>\n",
       "    <tr style=\"text-align: right;\">\n",
       "      <th></th>\n",
       "      <th>iso_code</th>\n",
       "      <th>continent</th>\n",
       "      <th>location</th>\n",
       "      <th>date</th>\n",
       "      <th>total_cases</th>\n",
       "      <th>new_cases</th>\n",
       "      <th>new_cases_smoothed</th>\n",
       "      <th>total_deaths</th>\n",
       "      <th>new_deaths</th>\n",
       "      <th>new_deaths_smoothed</th>\n",
       "      <th>...</th>\n",
       "      <th>female_smokers</th>\n",
       "      <th>male_smokers</th>\n",
       "      <th>handwashing_facilities</th>\n",
       "      <th>hospital_beds_per_thousand</th>\n",
       "      <th>life_expectancy</th>\n",
       "      <th>human_development_index</th>\n",
       "      <th>excess_mortality_cumulative_absolute</th>\n",
       "      <th>excess_mortality_cumulative</th>\n",
       "      <th>excess_mortality</th>\n",
       "      <th>excess_mortality_cumulative_per_million</th>\n",
       "    </tr>\n",
       "  </thead>\n",
       "  <tbody>\n",
       "    <tr>\n",
       "      <th>131288</th>\n",
       "      <td>OWID_WRL</td>\n",
       "      <td>NaN</td>\n",
       "      <td>World</td>\n",
       "      <td>2021-11-13</td>\n",
       "      <td>252970612.0</td>\n",
       "      <td>444258.0</td>\n",
       "      <td>489132.429</td>\n",
       "      <td>5095849.0</td>\n",
       "      <td>6841.0</td>\n",
       "      <td>7203.286</td>\n",
       "      <td>...</td>\n",
       "      <td>6.434</td>\n",
       "      <td>34.635</td>\n",
       "      <td>60.13</td>\n",
       "      <td>2.705</td>\n",
       "      <td>72.58</td>\n",
       "      <td>0.737</td>\n",
       "      <td>NaN</td>\n",
       "      <td>NaN</td>\n",
       "      <td>NaN</td>\n",
       "      <td>NaN</td>\n",
       "    </tr>\n",
       "  </tbody>\n",
       "</table>\n",
       "<p>1 rows × 65 columns</p>\n",
       "</div>"
      ],
      "text/plain": [
       "        iso_code continent location        date  total_cases  new_cases  \\\n",
       "131288  OWID_WRL       NaN    World  2021-11-13  252970612.0   444258.0   \n",
       "\n",
       "        new_cases_smoothed  total_deaths  new_deaths  new_deaths_smoothed  \\\n",
       "131288          489132.429     5095849.0      6841.0             7203.286   \n",
       "\n",
       "        ...  female_smokers  male_smokers  handwashing_facilities  \\\n",
       "131288  ...           6.434        34.635                   60.13   \n",
       "\n",
       "        hospital_beds_per_thousand  life_expectancy  human_development_index  \\\n",
       "131288                       2.705            72.58                    0.737   \n",
       "\n",
       "        excess_mortality_cumulative_absolute  excess_mortality_cumulative  \\\n",
       "131288                                   NaN                          NaN   \n",
       "\n",
       "        excess_mortality  excess_mortality_cumulative_per_million  \n",
       "131288               NaN                                      NaN  \n",
       "\n",
       "[1 rows x 65 columns]"
      ]
     },
     "execution_count": 15,
     "metadata": {},
     "output_type": "execute_result"
    }
   ],
   "source": [
    "df_world_recent = df_world[df_world['date'] == df_world['date'].max()]\n",
    "df_world_recent"
   ]
  },
  {
   "cell_type": "code",
   "execution_count": 16,
   "id": "932ad75e",
   "metadata": {
    "execution": {
     "iopub.execute_input": "2021-11-14T19:24:02.259157Z",
     "iopub.status.busy": "2021-11-14T19:24:02.258111Z",
     "iopub.status.idle": "2021-11-14T19:24:02.269287Z",
     "shell.execute_reply": "2021-11-14T19:24:02.269806Z",
     "shell.execute_reply.started": "2021-11-14T18:54:40.319867Z"
    },
    "papermill": {
     "duration": 0.079074,
     "end_time": "2021-11-14T19:24:02.269982",
     "exception": false,
     "start_time": "2021-11-14T19:24:02.190908",
     "status": "completed"
    },
    "tags": []
   },
   "outputs": [
    {
     "data": {
      "text/html": [
       "<div>\n",
       "<style scoped>\n",
       "    .dataframe tbody tr th:only-of-type {\n",
       "        vertical-align: middle;\n",
       "    }\n",
       "\n",
       "    .dataframe tbody tr th {\n",
       "        vertical-align: top;\n",
       "    }\n",
       "\n",
       "    .dataframe thead th {\n",
       "        text-align: right;\n",
       "    }\n",
       "</style>\n",
       "<table border=\"1\" class=\"dataframe\">\n",
       "  <thead>\n",
       "    <tr style=\"text-align: right;\">\n",
       "      <th></th>\n",
       "      <th>total_cases</th>\n",
       "      <th>new_cases</th>\n",
       "      <th>new_deaths</th>\n",
       "      <th>total_deaths</th>\n",
       "      <th>people_vaccinated</th>\n",
       "    </tr>\n",
       "    <tr>\n",
       "      <th>date</th>\n",
       "      <th></th>\n",
       "      <th></th>\n",
       "      <th></th>\n",
       "      <th></th>\n",
       "      <th></th>\n",
       "    </tr>\n",
       "  </thead>\n",
       "  <tbody>\n",
       "    <tr>\n",
       "      <th>2021-11-13</th>\n",
       "      <td>252970612.0</td>\n",
       "      <td>444258.0</td>\n",
       "      <td>6841.0</td>\n",
       "      <td>5095849.0</td>\n",
       "      <td>4.068261e+09</td>\n",
       "    </tr>\n",
       "  </tbody>\n",
       "</table>\n",
       "</div>"
      ],
      "text/plain": [
       "            total_cases  new_cases  new_deaths  total_deaths  \\\n",
       "date                                                           \n",
       "2021-11-13  252970612.0   444258.0      6841.0     5095849.0   \n",
       "\n",
       "            people_vaccinated  \n",
       "date                           \n",
       "2021-11-13       4.068261e+09  "
      ]
     },
     "execution_count": 16,
     "metadata": {},
     "output_type": "execute_result"
    }
   ],
   "source": [
    " df_world_recent.groupby(\"date\")[[\"total_cases\",\"new_cases\",\"new_deaths\",\"total_deaths\",'people_vaccinated']].sum()"
   ]
  },
  {
   "cell_type": "markdown",
   "id": "6e91c48f",
   "metadata": {
    "papermill": {
     "duration": 0.058013,
     "end_time": "2021-11-14T19:24:02.385830",
     "exception": false,
     "start_time": "2021-11-14T19:24:02.327817",
     "status": "completed"
    },
    "tags": []
   },
   "source": [
    "### Calculating the percentage of confirmed cases regarding the world population"
   ]
  },
  {
   "cell_type": "code",
   "execution_count": 17,
   "id": "c81a0cd0",
   "metadata": {
    "execution": {
     "iopub.execute_input": "2021-11-14T19:24:02.506083Z",
     "iopub.status.busy": "2021-11-14T19:24:02.505106Z",
     "iopub.status.idle": "2021-11-14T19:24:02.511019Z",
     "shell.execute_reply": "2021-11-14T19:24:02.511551Z",
     "shell.execute_reply.started": "2021-11-14T18:54:40.336184Z"
    },
    "papermill": {
     "duration": 0.06787,
     "end_time": "2021-11-14T19:24:02.511736",
     "exception": false,
     "start_time": "2021-11-14T19:24:02.443866",
     "status": "completed"
    },
    "tags": []
   },
   "outputs": [
    {
     "data": {
      "text/plain": [
       "252970612.0"
      ]
     },
     "execution_count": 17,
     "metadata": {},
     "output_type": "execute_result"
    }
   ],
   "source": [
    "df_world['total_cases'].max()"
   ]
  },
  {
   "cell_type": "code",
   "execution_count": 18,
   "id": "da967d03",
   "metadata": {
    "execution": {
     "iopub.execute_input": "2021-11-14T19:24:02.634247Z",
     "iopub.status.busy": "2021-11-14T19:24:02.633547Z",
     "iopub.status.idle": "2021-11-14T19:24:02.636090Z",
     "shell.execute_reply": "2021-11-14T19:24:02.636603Z",
     "shell.execute_reply.started": "2021-11-14T18:54:40.343680Z"
    },
    "papermill": {
     "duration": 0.06642,
     "end_time": "2021-11-14T19:24:02.636773",
     "exception": false,
     "start_time": "2021-11-14T19:24:02.570353",
     "status": "completed"
    },
    "tags": []
   },
   "outputs": [
    {
     "data": {
      "text/plain": [
       "7874965730.0"
      ]
     },
     "execution_count": 18,
     "metadata": {},
     "output_type": "execute_result"
    }
   ],
   "source": [
    "df_world['population'].max()"
   ]
  },
  {
   "cell_type": "code",
   "execution_count": 19,
   "id": "1c6c3f18",
   "metadata": {
    "execution": {
     "iopub.execute_input": "2021-11-14T19:24:02.760209Z",
     "iopub.status.busy": "2021-11-14T19:24:02.757371Z",
     "iopub.status.idle": "2021-11-14T19:24:02.763247Z",
     "shell.execute_reply": "2021-11-14T19:24:02.763761Z",
     "shell.execute_reply.started": "2021-11-14T18:54:40.353257Z"
    },
    "papermill": {
     "duration": 0.068832,
     "end_time": "2021-11-14T19:24:02.764054",
     "exception": false,
     "start_time": "2021-11-14T19:24:02.695222",
     "status": "completed"
    },
    "tags": []
   },
   "outputs": [
    {
     "data": {
      "text/plain": [
       "0.03212339211030446"
      ]
     },
     "execution_count": 19,
     "metadata": {},
     "output_type": "execute_result"
    }
   ],
   "source": [
    "df_world_cases_ratio = df_world['total_cases'].max() / df_world['population'].max()\n",
    "df_world_cases_ratio"
   ]
  },
  {
   "cell_type": "markdown",
   "id": "49f8bc65",
   "metadata": {
    "papermill": {
     "duration": 0.059332,
     "end_time": "2021-11-14T19:24:02.882368",
     "exception": false,
     "start_time": "2021-11-14T19:24:02.823036",
     "status": "completed"
    },
    "tags": []
   },
   "source": [
    "#### **The results here is changeable over the time and the results now are 3%**"
   ]
  },
  {
   "cell_type": "markdown",
   "id": "74902ef1",
   "metadata": {
    "papermill": {
     "duration": 0.059246,
     "end_time": "2021-11-14T19:24:03.000506",
     "exception": false,
     "start_time": "2021-11-14T19:24:02.941260",
     "status": "completed"
    },
    "tags": []
   },
   "source": [
    "## VISUALLIZING WORLD DATA"
   ]
  },
  {
   "cell_type": "markdown",
   "id": "26b1d3f4",
   "metadata": {
    "papermill": {
     "duration": 0.05972,
     "end_time": "2021-11-14T19:24:03.119630",
     "exception": false,
     "start_time": "2021-11-14T19:24:03.059910",
     "status": "completed"
    },
    "tags": []
   },
   "source": [
    "### Confirmed cases (Total Cases) all over the world"
   ]
  },
  {
   "cell_type": "code",
   "execution_count": 20,
   "id": "eba60892",
   "metadata": {
    "execution": {
     "iopub.execute_input": "2021-11-14T19:24:03.240798Z",
     "iopub.status.busy": "2021-11-14T19:24:03.240117Z",
     "iopub.status.idle": "2021-11-14T19:24:03.262986Z",
     "shell.execute_reply": "2021-11-14T19:24:03.263561Z",
     "shell.execute_reply.started": "2021-11-14T18:54:40.362639Z"
    },
    "papermill": {
     "duration": 0.085131,
     "end_time": "2021-11-14T19:24:03.263738",
     "exception": false,
     "start_time": "2021-11-14T19:24:03.178607",
     "status": "completed"
    },
    "tags": []
   },
   "outputs": [
    {
     "data": {
      "text/html": [
       "<div>\n",
       "<style scoped>\n",
       "    .dataframe tbody tr th:only-of-type {\n",
       "        vertical-align: middle;\n",
       "    }\n",
       "\n",
       "    .dataframe tbody tr th {\n",
       "        vertical-align: top;\n",
       "    }\n",
       "\n",
       "    .dataframe thead th {\n",
       "        text-align: right;\n",
       "    }\n",
       "</style>\n",
       "<table border=\"1\" class=\"dataframe\">\n",
       "  <thead>\n",
       "    <tr style=\"text-align: right;\">\n",
       "      <th></th>\n",
       "      <th>date</th>\n",
       "      <th>total_cases</th>\n",
       "      <th>new_cases</th>\n",
       "      <th>total_deaths</th>\n",
       "      <th>new_deaths</th>\n",
       "      <th>people_vaccinated</th>\n",
       "    </tr>\n",
       "  </thead>\n",
       "  <tbody>\n",
       "    <tr>\n",
       "      <th>0</th>\n",
       "      <td>2020-01-22</td>\n",
       "      <td>557.0</td>\n",
       "      <td>0.0</td>\n",
       "      <td>17.0</td>\n",
       "      <td>0.0</td>\n",
       "      <td>0.000000e+00</td>\n",
       "    </tr>\n",
       "    <tr>\n",
       "      <th>1</th>\n",
       "      <td>2020-01-23</td>\n",
       "      <td>655.0</td>\n",
       "      <td>98.0</td>\n",
       "      <td>18.0</td>\n",
       "      <td>1.0</td>\n",
       "      <td>0.000000e+00</td>\n",
       "    </tr>\n",
       "    <tr>\n",
       "      <th>2</th>\n",
       "      <td>2020-01-24</td>\n",
       "      <td>941.0</td>\n",
       "      <td>286.0</td>\n",
       "      <td>26.0</td>\n",
       "      <td>8.0</td>\n",
       "      <td>0.000000e+00</td>\n",
       "    </tr>\n",
       "    <tr>\n",
       "      <th>3</th>\n",
       "      <td>2020-01-25</td>\n",
       "      <td>1434.0</td>\n",
       "      <td>493.0</td>\n",
       "      <td>42.0</td>\n",
       "      <td>16.0</td>\n",
       "      <td>0.000000e+00</td>\n",
       "    </tr>\n",
       "    <tr>\n",
       "      <th>4</th>\n",
       "      <td>2020-01-26</td>\n",
       "      <td>2118.0</td>\n",
       "      <td>684.0</td>\n",
       "      <td>56.0</td>\n",
       "      <td>14.0</td>\n",
       "      <td>0.000000e+00</td>\n",
       "    </tr>\n",
       "    <tr>\n",
       "      <th>...</th>\n",
       "      <td>...</td>\n",
       "      <td>...</td>\n",
       "      <td>...</td>\n",
       "      <td>...</td>\n",
       "      <td>...</td>\n",
       "      <td>...</td>\n",
       "    </tr>\n",
       "    <tr>\n",
       "      <th>657</th>\n",
       "      <td>2021-11-09</td>\n",
       "      <td>250850973.0</td>\n",
       "      <td>479447.0</td>\n",
       "      <td>5064692.0</td>\n",
       "      <td>8164.0</td>\n",
       "      <td>4.037436e+09</td>\n",
       "    </tr>\n",
       "    <tr>\n",
       "      <th>658</th>\n",
       "      <td>2021-11-10</td>\n",
       "      <td>251424349.0</td>\n",
       "      <td>573376.0</td>\n",
       "      <td>5072805.0</td>\n",
       "      <td>8113.0</td>\n",
       "      <td>4.048411e+09</td>\n",
       "    </tr>\n",
       "    <tr>\n",
       "      <th>659</th>\n",
       "      <td>2021-11-11</td>\n",
       "      <td>251941011.0</td>\n",
       "      <td>516662.0</td>\n",
       "      <td>5080351.0</td>\n",
       "      <td>7546.0</td>\n",
       "      <td>4.056566e+09</td>\n",
       "    </tr>\n",
       "    <tr>\n",
       "      <th>660</th>\n",
       "      <td>2021-11-12</td>\n",
       "      <td>252526354.0</td>\n",
       "      <td>585343.0</td>\n",
       "      <td>5089008.0</td>\n",
       "      <td>8657.0</td>\n",
       "      <td>4.063400e+09</td>\n",
       "    </tr>\n",
       "    <tr>\n",
       "      <th>661</th>\n",
       "      <td>2021-11-13</td>\n",
       "      <td>252970612.0</td>\n",
       "      <td>444258.0</td>\n",
       "      <td>5095849.0</td>\n",
       "      <td>6841.0</td>\n",
       "      <td>4.068261e+09</td>\n",
       "    </tr>\n",
       "  </tbody>\n",
       "</table>\n",
       "<p>662 rows × 6 columns</p>\n",
       "</div>"
      ],
      "text/plain": [
       "           date  total_cases  new_cases  total_deaths  new_deaths  \\\n",
       "0    2020-01-22        557.0        0.0          17.0         0.0   \n",
       "1    2020-01-23        655.0       98.0          18.0         1.0   \n",
       "2    2020-01-24        941.0      286.0          26.0         8.0   \n",
       "3    2020-01-25       1434.0      493.0          42.0        16.0   \n",
       "4    2020-01-26       2118.0      684.0          56.0        14.0   \n",
       "..          ...          ...        ...           ...         ...   \n",
       "657  2021-11-09  250850973.0   479447.0     5064692.0      8164.0   \n",
       "658  2021-11-10  251424349.0   573376.0     5072805.0      8113.0   \n",
       "659  2021-11-11  251941011.0   516662.0     5080351.0      7546.0   \n",
       "660  2021-11-12  252526354.0   585343.0     5089008.0      8657.0   \n",
       "661  2021-11-13  252970612.0   444258.0     5095849.0      6841.0   \n",
       "\n",
       "     people_vaccinated  \n",
       "0         0.000000e+00  \n",
       "1         0.000000e+00  \n",
       "2         0.000000e+00  \n",
       "3         0.000000e+00  \n",
       "4         0.000000e+00  \n",
       "..                 ...  \n",
       "657       4.037436e+09  \n",
       "658       4.048411e+09  \n",
       "659       4.056566e+09  \n",
       "660       4.063400e+09  \n",
       "661       4.068261e+09  \n",
       "\n",
       "[662 rows x 6 columns]"
      ]
     },
     "execution_count": 20,
     "metadata": {},
     "output_type": "execute_result"
    }
   ],
   "source": [
    "df_world_AllTime = df_world.groupby('date')[[ 'total_cases', 'new_cases', 'total_deaths', 'new_deaths','people_vaccinated']].sum().reset_index()\n",
    "df_world_AllTime"
   ]
  },
  {
   "cell_type": "code",
   "execution_count": 21,
   "id": "a64f8369",
   "metadata": {
    "execution": {
     "iopub.execute_input": "2021-11-14T19:24:03.390217Z",
     "iopub.status.busy": "2021-11-14T19:24:03.389469Z",
     "iopub.status.idle": "2021-11-14T19:24:03.400791Z",
     "shell.execute_reply": "2021-11-14T19:24:03.401348Z",
     "shell.execute_reply.started": "2021-11-14T18:54:40.385357Z"
    },
    "papermill": {
     "duration": 0.075284,
     "end_time": "2021-11-14T19:24:03.401527",
     "exception": false,
     "start_time": "2021-11-14T19:24:03.326243",
     "status": "completed"
    },
    "tags": []
   },
   "outputs": [
    {
     "name": "stdout",
     "output_type": "stream",
     "text": [
      "<class 'pandas.core.frame.DataFrame'>\n",
      "RangeIndex: 662 entries, 0 to 661\n",
      "Data columns (total 6 columns):\n",
      " #   Column             Non-Null Count  Dtype  \n",
      "---  ------             --------------  -----  \n",
      " 0   date               662 non-null    object \n",
      " 1   total_cases        662 non-null    float64\n",
      " 2   new_cases          662 non-null    float64\n",
      " 3   total_deaths       662 non-null    float64\n",
      " 4   new_deaths         662 non-null    float64\n",
      " 5   people_vaccinated  662 non-null    float64\n",
      "dtypes: float64(5), object(1)\n",
      "memory usage: 31.2+ KB\n"
     ]
    }
   ],
   "source": [
    "df_world_AllTime.info()"
   ]
  },
  {
   "cell_type": "markdown",
   "id": "f17e9f46",
   "metadata": {
    "papermill": {
     "duration": 0.06015,
     "end_time": "2021-11-14T19:24:03.522512",
     "exception": false,
     "start_time": "2021-11-14T19:24:03.462362",
     "status": "completed"
    },
    "tags": []
   },
   "source": [
    "**I find problem here with date it's a object type and i need to change it to date type**"
   ]
  },
  {
   "cell_type": "code",
   "execution_count": 22,
   "id": "9ac08c2e",
   "metadata": {
    "execution": {
     "iopub.execute_input": "2021-11-14T19:24:03.653943Z",
     "iopub.status.busy": "2021-11-14T19:24:03.653318Z",
     "iopub.status.idle": "2021-11-14T19:24:03.654734Z",
     "shell.execute_reply": "2021-11-14T19:24:03.655351Z",
     "shell.execute_reply.started": "2021-11-14T19:03:28.529573Z"
    },
    "papermill": {
     "duration": 0.069628,
     "end_time": "2021-11-14T19:24:03.655518",
     "exception": false,
     "start_time": "2021-11-14T19:24:03.585890",
     "status": "completed"
    },
    "tags": []
   },
   "outputs": [],
   "source": [
    "df_world_AllTime['date'] = pd.to_datetime(df_world_AllTime['date'])"
   ]
  },
  {
   "cell_type": "markdown",
   "id": "cc6528d9",
   "metadata": {
    "papermill": {
     "duration": 0.059326,
     "end_time": "2021-11-14T19:24:03.774787",
     "exception": false,
     "start_time": "2021-11-14T19:24:03.715461",
     "status": "completed"
    },
    "tags": []
   },
   "source": [
    "**let's check now**"
   ]
  },
  {
   "cell_type": "code",
   "execution_count": 23,
   "id": "dab0d995",
   "metadata": {
    "execution": {
     "iopub.execute_input": "2021-11-14T19:24:03.897525Z",
     "iopub.status.busy": "2021-11-14T19:24:03.896861Z",
     "iopub.status.idle": "2021-11-14T19:24:03.907545Z",
     "shell.execute_reply": "2021-11-14T19:24:03.908177Z",
     "shell.execute_reply.started": "2021-11-14T18:54:40.402768Z"
    },
    "papermill": {
     "duration": 0.073919,
     "end_time": "2021-11-14T19:24:03.908377",
     "exception": false,
     "start_time": "2021-11-14T19:24:03.834458",
     "status": "completed"
    },
    "tags": []
   },
   "outputs": [
    {
     "name": "stdout",
     "output_type": "stream",
     "text": [
      "<class 'pandas.core.frame.DataFrame'>\n",
      "RangeIndex: 662 entries, 0 to 661\n",
      "Data columns (total 6 columns):\n",
      " #   Column             Non-Null Count  Dtype         \n",
      "---  ------             --------------  -----         \n",
      " 0   date               662 non-null    datetime64[ns]\n",
      " 1   total_cases        662 non-null    float64       \n",
      " 2   new_cases          662 non-null    float64       \n",
      " 3   total_deaths       662 non-null    float64       \n",
      " 4   new_deaths         662 non-null    float64       \n",
      " 5   people_vaccinated  662 non-null    float64       \n",
      "dtypes: datetime64[ns](1), float64(5)\n",
      "memory usage: 31.2 KB\n"
     ]
    }
   ],
   "source": [
    "df_world_AllTime.info()"
   ]
  },
  {
   "cell_type": "markdown",
   "id": "b2373c10",
   "metadata": {
    "papermill": {
     "duration": 0.061021,
     "end_time": "2021-11-14T19:24:04.029491",
     "exception": false,
     "start_time": "2021-11-14T19:24:03.968470",
     "status": "completed"
    },
    "tags": []
   },
   "source": [
    "**Great problem solved, now let's ploting**"
   ]
  },
  {
   "cell_type": "code",
   "execution_count": 24,
   "id": "e509d623",
   "metadata": {
    "execution": {
     "iopub.execute_input": "2021-11-14T19:24:04.176285Z",
     "iopub.status.busy": "2021-11-14T19:24:04.175455Z",
     "iopub.status.idle": "2021-11-14T19:24:04.713960Z",
     "shell.execute_reply": "2021-11-14T19:24:04.714615Z",
     "shell.execute_reply.started": "2021-11-14T18:54:40.417921Z"
    },
    "papermill": {
     "duration": 0.624163,
     "end_time": "2021-11-14T19:24:04.714805",
     "exception": false,
     "start_time": "2021-11-14T19:24:04.090642",
     "status": "completed"
    },
    "tags": []
   },
   "outputs": [
    {
     "data": {
      "text/plain": [
       "Text(0, 0.5, 'Confirmed cases')"
      ]
     },
     "execution_count": 24,
     "metadata": {},
     "output_type": "execute_result"
    },
    {
     "data": {
      "image/png": "[encoded data removed]",
      "text/plain": [
       "<Figure size 1440x720 with 1 Axes>"
      ]
     },
     "metadata": {},
     "output_type": "display_data"
    }
   ],
   "source": [
    "# Using line-plot\n",
    "plt.figure(figsize=(20,10))\n",
    "plt.plot(df_world_AllTime['date'], df_world_AllTime['total_cases'], c='black')\n",
    "plt.title('Evolution of Confirmed Covid-19 cases over time in the word', fontsize=16)\n",
    "plt.xlabel('Months', fontsize=16)\n",
    "plt.ylabel('Confirmed cases', fontsize=16)"
   ]
  },
  {
   "cell_type": "markdown",
   "id": "14c8d649",
   "metadata": {
    "papermill": {
     "duration": 0.062657,
     "end_time": "2021-11-14T19:24:04.840748",
     "exception": false,
     "start_time": "2021-11-14T19:24:04.778091",
     "status": "completed"
    },
    "tags": []
   },
   "source": [
    "### Total deaths cases evolution over time"
   ]
  },
  {
   "cell_type": "code",
   "execution_count": 25,
   "id": "4759fecf",
   "metadata": {
    "execution": {
     "iopub.execute_input": "2021-11-14T19:24:05.108318Z",
     "iopub.status.busy": "2021-11-14T19:24:05.105954Z",
     "iopub.status.idle": "2021-11-14T19:24:05.606327Z",
     "shell.execute_reply": "2021-11-14T19:24:05.606845Z",
     "shell.execute_reply.started": "2021-11-14T19:02:45.410622Z"
    },
    "papermill": {
     "duration": 0.702855,
     "end_time": "2021-11-14T19:24:05.607032",
     "exception": false,
     "start_time": "2021-11-14T19:24:04.904177",
     "status": "completed"
    },
    "tags": []
   },
   "outputs": [
    {
     "data": {
      "text/plain": [
       "Text(0, 0.5, 'Confirmed Deaths')"
      ]
     },
     "execution_count": 25,
     "metadata": {},
     "output_type": "execute_result"
    },
    {
     "data": {
      "image/png": "[encoded data removed]",
      "text/plain": [
       "<Figure size 1440x720 with 1 Axes>"
      ]
     },
     "metadata": {},
     "output_type": "display_data"
    }
   ],
   "source": [
    "# Using line-plot\n",
    "plt.figure(figsize=(20,10))\n",
    "plt.plot(df_world_AllTime['date'], df_world_AllTime['total_deaths'], c='red')\n",
    "plt.title('Evolution of Confirmed Covid-19 Deaths over time in the world', fontsize=16)\n",
    "plt.xlabel('Months', fontsize=16)\n",
    "plt.ylabel('Confirmed Deaths', fontsize=16)"
   ]
  },
  {
   "cell_type": "markdown",
   "id": "df6f1d6d",
   "metadata": {
    "papermill": {
     "duration": 0.064864,
     "end_time": "2021-11-14T19:24:05.736682",
     "exception": false,
     "start_time": "2021-11-14T19:24:05.671818",
     "status": "completed"
    },
    "tags": []
   },
   "source": [
    "### New cases all over the world"
   ]
  },
  {
   "cell_type": "code",
   "execution_count": 26,
   "id": "dd4b2d0e",
   "metadata": {
    "execution": {
     "iopub.execute_input": "2021-11-14T19:24:05.895015Z",
     "iopub.status.busy": "2021-11-14T19:24:05.894318Z",
     "iopub.status.idle": "2021-11-14T19:24:06.493288Z",
     "shell.execute_reply": "2021-11-14T19:24:06.493959Z",
     "shell.execute_reply.started": "2021-11-14T18:54:41.295008Z"
    },
    "papermill": {
     "duration": 0.67959,
     "end_time": "2021-11-14T19:24:06.494142",
     "exception": false,
     "start_time": "2021-11-14T19:24:05.814552",
     "status": "completed"
    },
    "tags": []
   },
   "outputs": [
    {
     "data": {
      "text/plain": [
       "Text(0, 0.5, 'New Cases')"
      ]
     },
     "execution_count": 26,
     "metadata": {},
     "output_type": "execute_result"
    },
    {
     "data": {
      "image/png": "[encoded data removed]",
      "text/plain": [
       "<Figure size 1440x720 with 1 Axes>"
      ]
     },
     "metadata": {},
     "output_type": "display_data"
    }
   ],
   "source": [
    "# Using line-plot\n",
    "plt.figure(figsize=(20,10))\n",
    "plt.plot(df_world_AllTime['date'], df_world_AllTime['new_cases'])\n",
    "plt.title('Evolution of Covid-19 New Cases over time in the world', fontsize=16)\n",
    "plt.xlabel('Months', fontsize=16)\n",
    "plt.ylabel('New Cases', fontsize=16)"
   ]
  },
  {
   "cell_type": "markdown",
   "id": "b9f65e86",
   "metadata": {
    "papermill": {
     "duration": 0.092669,
     "end_time": "2021-11-14T19:24:06.659369",
     "exception": false,
     "start_time": "2021-11-14T19:24:06.566700",
     "status": "completed"
    },
    "tags": []
   },
   "source": [
    "### People vaccinated all over the world"
   ]
  },
  {
   "cell_type": "code",
   "execution_count": 27,
   "id": "a16c8286",
   "metadata": {
    "execution": {
     "iopub.execute_input": "2021-11-14T19:24:06.817902Z",
     "iopub.status.busy": "2021-11-14T19:24:06.817072Z",
     "iopub.status.idle": "2021-11-14T19:24:07.396763Z",
     "shell.execute_reply": "2021-11-14T19:24:07.396156Z",
     "shell.execute_reply.started": "2021-11-14T18:54:41.741039Z"
    },
    "papermill": {
     "duration": 0.655856,
     "end_time": "2021-11-14T19:24:07.396933",
     "exception": false,
     "start_time": "2021-11-14T19:24:06.741077",
     "status": "completed"
    },
    "tags": []
   },
   "outputs": [
    {
     "data": {
      "text/plain": [
       "Text(0, 0.5, 'People vaccinated')"
      ]
     },
     "execution_count": 27,
     "metadata": {},
     "output_type": "execute_result"
    },
    {
     "data": {
      "image/png": "[encoded data removed]",
      "text/plain": [
       "<Figure size 1440x720 with 1 Axes>"
      ]
     },
     "metadata": {},
     "output_type": "display_data"
    }
   ],
   "source": [
    "# Using line-plot\n",
    "plt.figure(figsize=(20,10))\n",
    "plt.plot(df_world_AllTime['date'], df_world_AllTime['people_vaccinated'], c='green')\n",
    "plt.title('Evolution of people vaccinated against Covid-19 over time in the world', fontsize=16)\n",
    "plt.xlabel('Months', fontsize=16)\n",
    "plt.ylabel('People vaccinated', fontsize=16)"
   ]
  },
  {
   "cell_type": "markdown",
   "id": "53981f7b",
   "metadata": {
    "papermill": {
     "duration": 0.074405,
     "end_time": "2021-11-14T19:24:07.547670",
     "exception": false,
     "start_time": "2021-11-14T19:24:07.473265",
     "status": "completed"
    },
    "tags": []
   },
   "source": [
    "### Putting it all together"
   ]
  },
  {
   "cell_type": "code",
   "execution_count": 28,
   "id": "eb31618c",
   "metadata": {
    "execution": {
     "iopub.execute_input": "2021-11-14T19:24:07.691764Z",
     "iopub.status.busy": "2021-11-14T19:24:07.691010Z",
     "iopub.status.idle": "2021-11-14T19:24:08.188850Z",
     "shell.execute_reply": "2021-11-14T19:24:08.188258Z",
     "shell.execute_reply.started": "2021-11-14T18:54:42.204067Z"
    },
    "papermill": {
     "duration": 0.571102,
     "end_time": "2021-11-14T19:24:08.189012",
     "exception": false,
     "start_time": "2021-11-14T19:24:07.617910",
     "status": "completed"
    },
    "tags": []
   },
   "outputs": [
    {
     "data": {
      "image/png": "[encoded data removed]",
      "text/plain": [
       "<Figure size 1440x720 with 1 Axes>"
      ]
     },
     "metadata": {},
     "output_type": "display_data"
    }
   ],
   "source": [
    "# Using line-plot\n",
    "plt.figure(figsize=(20,10))\n",
    "plt.plot(df_world_AllTime['date'], df_world_AllTime['total_cases'], c='black')\n",
    "plt.plot(df_world_AllTime['date'], df_world_AllTime['total_deaths'], c='red')\n",
    "plt.plot(df_world_AllTime['date'], df_world_AllTime['people_vaccinated'], c='green')\n",
    "plt.legend(loc=0)\n",
    "plt.show()\n",
    "# Notice i ignore new cases in this figure because it cause duplication with total deaths"
   ]
  },
  {
   "cell_type": "markdown",
   "id": "d3079a7b",
   "metadata": {
    "papermill": {
     "duration": 0.073155,
     "end_time": "2021-11-14T19:24:08.338703",
     "exception": false,
     "start_time": "2021-11-14T19:24:08.265548",
     "status": "completed"
    },
    "tags": []
   },
   "source": [
    "**=============**"
   ]
  },
  {
   "cell_type": "markdown",
   "id": "c0c5e743",
   "metadata": {
    "papermill": {
     "duration": 0.071294,
     "end_time": "2021-11-14T19:24:08.481901",
     "exception": false,
     "start_time": "2021-11-14T19:24:08.410607",
     "status": "completed"
    },
    "tags": []
   },
   "source": [
    "### Now let's explore the covid status in Saudi Arabia"
   ]
  },
  {
   "cell_type": "markdown",
   "id": "cd41d014",
   "metadata": {
    "papermill": {
     "duration": 0.071294,
     "end_time": "2021-11-14T19:24:08.624723",
     "exception": false,
     "start_time": "2021-11-14T19:24:08.553429",
     "status": "completed"
    },
    "tags": []
   },
   "source": [
    "## Exploring Saudi Arabia Data"
   ]
  },
  {
   "cell_type": "markdown",
   "id": "b7ddaf6e",
   "metadata": {
    "papermill": {
     "duration": 0.071266,
     "end_time": "2021-11-14T19:24:08.766876",
     "exception": false,
     "start_time": "2021-11-14T19:24:08.695610",
     "status": "completed"
    },
    "tags": []
   },
   "source": [
    "### Let's first get 'Saudi Arabia' data"
   ]
  },
  {
   "cell_type": "code",
   "execution_count": 29,
   "id": "60c5473e",
   "metadata": {
    "execution": {
     "iopub.execute_input": "2021-11-14T19:24:08.914134Z",
     "iopub.status.busy": "2021-11-14T19:24:08.912987Z",
     "iopub.status.idle": "2021-11-14T19:24:08.969251Z",
     "shell.execute_reply": "2021-11-14T19:24:08.969730Z",
     "shell.execute_reply.started": "2021-11-14T19:05:38.779180Z"
    },
    "papermill": {
     "duration": 0.132049,
     "end_time": "2021-11-14T19:24:08.969911",
     "exception": false,
     "start_time": "2021-11-14T19:24:08.837862",
     "status": "completed"
    },
    "tags": []
   },
   "outputs": [
    {
     "data": {
      "text/html": [
       "<div>\n",
       "<style scoped>\n",
       "    .dataframe tbody tr th:only-of-type {\n",
       "        vertical-align: middle;\n",
       "    }\n",
       "\n",
       "    .dataframe tbody tr th {\n",
       "        vertical-align: top;\n",
       "    }\n",
       "\n",
       "    .dataframe thead th {\n",
       "        text-align: right;\n",
       "    }\n",
       "</style>\n",
       "<table border=\"1\" class=\"dataframe\">\n",
       "  <thead>\n",
       "    <tr style=\"text-align: right;\">\n",
       "      <th></th>\n",
       "      <th>iso_code</th>\n",
       "      <th>continent</th>\n",
       "      <th>location</th>\n",
       "      <th>date</th>\n",
       "      <th>total_cases</th>\n",
       "      <th>new_cases</th>\n",
       "      <th>new_cases_smoothed</th>\n",
       "      <th>total_deaths</th>\n",
       "      <th>new_deaths</th>\n",
       "      <th>new_deaths_smoothed</th>\n",
       "      <th>...</th>\n",
       "      <th>female_smokers</th>\n",
       "      <th>male_smokers</th>\n",
       "      <th>handwashing_facilities</th>\n",
       "      <th>hospital_beds_per_thousand</th>\n",
       "      <th>life_expectancy</th>\n",
       "      <th>human_development_index</th>\n",
       "      <th>excess_mortality_cumulative_absolute</th>\n",
       "      <th>excess_mortality_cumulative</th>\n",
       "      <th>excess_mortality</th>\n",
       "      <th>excess_mortality_cumulative_per_million</th>\n",
       "    </tr>\n",
       "  </thead>\n",
       "  <tbody>\n",
       "    <tr>\n",
       "      <th>103359</th>\n",
       "      <td>SAU</td>\n",
       "      <td>Asia</td>\n",
       "      <td>Saudi Arabia</td>\n",
       "      <td>2020-03-02</td>\n",
       "      <td>1.0</td>\n",
       "      <td>1.0</td>\n",
       "      <td>NaN</td>\n",
       "      <td>NaN</td>\n",
       "      <td>NaN</td>\n",
       "      <td>NaN</td>\n",
       "      <td>...</td>\n",
       "      <td>1.8</td>\n",
       "      <td>25.4</td>\n",
       "      <td>NaN</td>\n",
       "      <td>2.7</td>\n",
       "      <td>75.13</td>\n",
       "      <td>0.854</td>\n",
       "      <td>NaN</td>\n",
       "      <td>NaN</td>\n",
       "      <td>NaN</td>\n",
       "      <td>NaN</td>\n",
       "    </tr>\n",
       "    <tr>\n",
       "      <th>103360</th>\n",
       "      <td>SAU</td>\n",
       "      <td>Asia</td>\n",
       "      <td>Saudi Arabia</td>\n",
       "      <td>2020-03-03</td>\n",
       "      <td>1.0</td>\n",
       "      <td>0.0</td>\n",
       "      <td>NaN</td>\n",
       "      <td>NaN</td>\n",
       "      <td>NaN</td>\n",
       "      <td>NaN</td>\n",
       "      <td>...</td>\n",
       "      <td>1.8</td>\n",
       "      <td>25.4</td>\n",
       "      <td>NaN</td>\n",
       "      <td>2.7</td>\n",
       "      <td>75.13</td>\n",
       "      <td>0.854</td>\n",
       "      <td>NaN</td>\n",
       "      <td>NaN</td>\n",
       "      <td>NaN</td>\n",
       "      <td>NaN</td>\n",
       "    </tr>\n",
       "    <tr>\n",
       "      <th>103361</th>\n",
       "      <td>SAU</td>\n",
       "      <td>Asia</td>\n",
       "      <td>Saudi Arabia</td>\n",
       "      <td>2020-03-04</td>\n",
       "      <td>1.0</td>\n",
       "      <td>0.0</td>\n",
       "      <td>NaN</td>\n",
       "      <td>NaN</td>\n",
       "      <td>NaN</td>\n",
       "      <td>NaN</td>\n",
       "      <td>...</td>\n",
       "      <td>1.8</td>\n",
       "      <td>25.4</td>\n",
       "      <td>NaN</td>\n",
       "      <td>2.7</td>\n",
       "      <td>75.13</td>\n",
       "      <td>0.854</td>\n",
       "      <td>NaN</td>\n",
       "      <td>NaN</td>\n",
       "      <td>NaN</td>\n",
       "      <td>NaN</td>\n",
       "    </tr>\n",
       "    <tr>\n",
       "      <th>103362</th>\n",
       "      <td>SAU</td>\n",
       "      <td>Asia</td>\n",
       "      <td>Saudi Arabia</td>\n",
       "      <td>2020-03-05</td>\n",
       "      <td>5.0</td>\n",
       "      <td>4.0</td>\n",
       "      <td>NaN</td>\n",
       "      <td>NaN</td>\n",
       "      <td>NaN</td>\n",
       "      <td>NaN</td>\n",
       "      <td>...</td>\n",
       "      <td>1.8</td>\n",
       "      <td>25.4</td>\n",
       "      <td>NaN</td>\n",
       "      <td>2.7</td>\n",
       "      <td>75.13</td>\n",
       "      <td>0.854</td>\n",
       "      <td>NaN</td>\n",
       "      <td>NaN</td>\n",
       "      <td>NaN</td>\n",
       "      <td>NaN</td>\n",
       "    </tr>\n",
       "    <tr>\n",
       "      <th>103363</th>\n",
       "      <td>SAU</td>\n",
       "      <td>Asia</td>\n",
       "      <td>Saudi Arabia</td>\n",
       "      <td>2020-03-06</td>\n",
       "      <td>5.0</td>\n",
       "      <td>0.0</td>\n",
       "      <td>NaN</td>\n",
       "      <td>NaN</td>\n",
       "      <td>NaN</td>\n",
       "      <td>NaN</td>\n",
       "      <td>...</td>\n",
       "      <td>1.8</td>\n",
       "      <td>25.4</td>\n",
       "      <td>NaN</td>\n",
       "      <td>2.7</td>\n",
       "      <td>75.13</td>\n",
       "      <td>0.854</td>\n",
       "      <td>NaN</td>\n",
       "      <td>NaN</td>\n",
       "      <td>NaN</td>\n",
       "      <td>NaN</td>\n",
       "    </tr>\n",
       "    <tr>\n",
       "      <th>...</th>\n",
       "      <td>...</td>\n",
       "      <td>...</td>\n",
       "      <td>...</td>\n",
       "      <td>...</td>\n",
       "      <td>...</td>\n",
       "      <td>...</td>\n",
       "      <td>...</td>\n",
       "      <td>...</td>\n",
       "      <td>...</td>\n",
       "      <td>...</td>\n",
       "      <td>...</td>\n",
       "      <td>...</td>\n",
       "      <td>...</td>\n",
       "      <td>...</td>\n",
       "      <td>...</td>\n",
       "      <td>...</td>\n",
       "      <td>...</td>\n",
       "      <td>...</td>\n",
       "      <td>...</td>\n",
       "      <td>...</td>\n",
       "      <td>...</td>\n",
       "    </tr>\n",
       "    <tr>\n",
       "      <th>103976</th>\n",
       "      <td>SAU</td>\n",
       "      <td>Asia</td>\n",
       "      <td>Saudi Arabia</td>\n",
       "      <td>2021-11-09</td>\n",
       "      <td>549022.0</td>\n",
       "      <td>49.0</td>\n",
       "      <td>44.429</td>\n",
       "      <td>8806.0</td>\n",
       "      <td>1.0</td>\n",
       "      <td>1.143</td>\n",
       "      <td>...</td>\n",
       "      <td>1.8</td>\n",
       "      <td>25.4</td>\n",
       "      <td>NaN</td>\n",
       "      <td>2.7</td>\n",
       "      <td>75.13</td>\n",
       "      <td>0.854</td>\n",
       "      <td>NaN</td>\n",
       "      <td>NaN</td>\n",
       "      <td>NaN</td>\n",
       "      <td>NaN</td>\n",
       "    </tr>\n",
       "    <tr>\n",
       "      <th>103977</th>\n",
       "      <td>SAU</td>\n",
       "      <td>Asia</td>\n",
       "      <td>Saudi Arabia</td>\n",
       "      <td>2021-11-10</td>\n",
       "      <td>549060.0</td>\n",
       "      <td>38.0</td>\n",
       "      <td>42.857</td>\n",
       "      <td>8807.0</td>\n",
       "      <td>1.0</td>\n",
       "      <td>1.143</td>\n",
       "      <td>...</td>\n",
       "      <td>1.8</td>\n",
       "      <td>25.4</td>\n",
       "      <td>NaN</td>\n",
       "      <td>2.7</td>\n",
       "      <td>75.13</td>\n",
       "      <td>0.854</td>\n",
       "      <td>NaN</td>\n",
       "      <td>NaN</td>\n",
       "      <td>NaN</td>\n",
       "      <td>NaN</td>\n",
       "    </tr>\n",
       "    <tr>\n",
       "      <th>103978</th>\n",
       "      <td>SAU</td>\n",
       "      <td>Asia</td>\n",
       "      <td>Saudi Arabia</td>\n",
       "      <td>2021-11-11</td>\n",
       "      <td>549103.0</td>\n",
       "      <td>43.0</td>\n",
       "      <td>42.571</td>\n",
       "      <td>8809.0</td>\n",
       "      <td>2.0</td>\n",
       "      <td>1.286</td>\n",
       "      <td>...</td>\n",
       "      <td>1.8</td>\n",
       "      <td>25.4</td>\n",
       "      <td>NaN</td>\n",
       "      <td>2.7</td>\n",
       "      <td>75.13</td>\n",
       "      <td>0.854</td>\n",
       "      <td>NaN</td>\n",
       "      <td>NaN</td>\n",
       "      <td>NaN</td>\n",
       "      <td>NaN</td>\n",
       "    </tr>\n",
       "    <tr>\n",
       "      <th>103979</th>\n",
       "      <td>SAU</td>\n",
       "      <td>Asia</td>\n",
       "      <td>Saudi Arabia</td>\n",
       "      <td>2021-11-12</td>\n",
       "      <td>549148.0</td>\n",
       "      <td>45.0</td>\n",
       "      <td>42.857</td>\n",
       "      <td>8810.0</td>\n",
       "      <td>1.0</td>\n",
       "      <td>1.143</td>\n",
       "      <td>...</td>\n",
       "      <td>1.8</td>\n",
       "      <td>25.4</td>\n",
       "      <td>NaN</td>\n",
       "      <td>2.7</td>\n",
       "      <td>75.13</td>\n",
       "      <td>0.854</td>\n",
       "      <td>NaN</td>\n",
       "      <td>NaN</td>\n",
       "      <td>NaN</td>\n",
       "      <td>NaN</td>\n",
       "    </tr>\n",
       "    <tr>\n",
       "      <th>103980</th>\n",
       "      <td>SAU</td>\n",
       "      <td>Asia</td>\n",
       "      <td>Saudi Arabia</td>\n",
       "      <td>2021-11-13</td>\n",
       "      <td>549192.0</td>\n",
       "      <td>44.0</td>\n",
       "      <td>43.143</td>\n",
       "      <td>8811.0</td>\n",
       "      <td>1.0</td>\n",
       "      <td>1.143</td>\n",
       "      <td>...</td>\n",
       "      <td>1.8</td>\n",
       "      <td>25.4</td>\n",
       "      <td>NaN</td>\n",
       "      <td>2.7</td>\n",
       "      <td>75.13</td>\n",
       "      <td>0.854</td>\n",
       "      <td>NaN</td>\n",
       "      <td>NaN</td>\n",
       "      <td>NaN</td>\n",
       "      <td>NaN</td>\n",
       "    </tr>\n",
       "  </tbody>\n",
       "</table>\n",
       "<p>622 rows × 65 columns</p>\n",
       "</div>"
      ],
      "text/plain": [
       "       iso_code continent      location        date  total_cases  new_cases  \\\n",
       "103359      SAU      Asia  Saudi Arabia  2020-03-02          1.0        1.0   \n",
       "103360      SAU      Asia  Saudi Arabia  2020-03-03          1.0        0.0   \n",
       "103361      SAU      Asia  Saudi Arabia  2020-03-04          1.0        0.0   \n",
       "103362      SAU      Asia  Saudi Arabia  2020-03-05          5.0        4.0   \n",
       "103363      SAU      Asia  Saudi Arabia  2020-03-06          5.0        0.0   \n",
       "...         ...       ...           ...         ...          ...        ...   \n",
       "103976      SAU      Asia  Saudi Arabia  2021-11-09     549022.0       49.0   \n",
       "103977      SAU      Asia  Saudi Arabia  2021-11-10     549060.0       38.0   \n",
       "103978      SAU      Asia  Saudi Arabia  2021-11-11     549103.0       43.0   \n",
       "103979      SAU      Asia  Saudi Arabia  2021-11-12     549148.0       45.0   \n",
       "103980      SAU      Asia  Saudi Arabia  2021-11-13     549192.0       44.0   \n",
       "\n",
       "        new_cases_smoothed  total_deaths  new_deaths  new_deaths_smoothed  \\\n",
       "103359                 NaN           NaN         NaN                  NaN   \n",
       "103360                 NaN           NaN         NaN                  NaN   \n",
       "103361                 NaN           NaN         NaN                  NaN   \n",
       "103362                 NaN           NaN         NaN                  NaN   \n",
       "103363                 NaN           NaN         NaN                  NaN   \n",
       "...                    ...           ...         ...                  ...   \n",
       "103976              44.429        8806.0         1.0                1.143   \n",
       "103977              42.857        8807.0         1.0                1.143   \n",
       "103978              42.571        8809.0         2.0                1.286   \n",
       "103979              42.857        8810.0         1.0                1.143   \n",
       "103980              43.143        8811.0         1.0                1.143   \n",
       "\n",
       "        ...  female_smokers  male_smokers  handwashing_facilities  \\\n",
       "103359  ...             1.8          25.4                     NaN   \n",
       "103360  ...             1.8          25.4                     NaN   \n",
       "103361  ...             1.8          25.4                     NaN   \n",
       "103362  ...             1.8          25.4                     NaN   \n",
       "103363  ...             1.8          25.4                     NaN   \n",
       "...     ...             ...           ...                     ...   \n",
       "103976  ...             1.8          25.4                     NaN   \n",
       "103977  ...             1.8          25.4                     NaN   \n",
       "103978  ...             1.8          25.4                     NaN   \n",
       "103979  ...             1.8          25.4                     NaN   \n",
       "103980  ...             1.8          25.4                     NaN   \n",
       "\n",
       "        hospital_beds_per_thousand  life_expectancy  human_development_index  \\\n",
       "103359                         2.7            75.13                    0.854   \n",
       "103360                         2.7            75.13                    0.854   \n",
       "103361                         2.7            75.13                    0.854   \n",
       "103362                         2.7            75.13                    0.854   \n",
       "103363                         2.7            75.13                    0.854   \n",
       "...                            ...              ...                      ...   \n",
       "103976                         2.7            75.13                    0.854   \n",
       "103977                         2.7            75.13                    0.854   \n",
       "103978                         2.7            75.13                    0.854   \n",
       "103979                         2.7            75.13                    0.854   \n",
       "103980                         2.7            75.13                    0.854   \n",
       "\n",
       "        excess_mortality_cumulative_absolute  excess_mortality_cumulative  \\\n",
       "103359                                   NaN                          NaN   \n",
       "103360                                   NaN                          NaN   \n",
       "103361                                   NaN                          NaN   \n",
       "103362                                   NaN                          NaN   \n",
       "103363                                   NaN                          NaN   \n",
       "...                                      ...                          ...   \n",
       "103976                                   NaN                          NaN   \n",
       "103977                                   NaN                          NaN   \n",
       "103978                                   NaN                          NaN   \n",
       "103979                                   NaN                          NaN   \n",
       "103980                                   NaN                          NaN   \n",
       "\n",
       "        excess_mortality  excess_mortality_cumulative_per_million  \n",
       "103359               NaN                                      NaN  \n",
       "103360               NaN                                      NaN  \n",
       "103361               NaN                                      NaN  \n",
       "103362               NaN                                      NaN  \n",
       "103363               NaN                                      NaN  \n",
       "...                  ...                                      ...  \n",
       "103976               NaN                                      NaN  \n",
       "103977               NaN                                      NaN  \n",
       "103978               NaN                                      NaN  \n",
       "103979               NaN                                      NaN  \n",
       "103980               NaN                                      NaN  \n",
       "\n",
       "[622 rows x 65 columns]"
      ]
     },
     "execution_count": 29,
     "metadata": {},
     "output_type": "execute_result"
    }
   ],
   "source": [
    "df_ksa = df[df['location'] == 'Saudi Arabia']\n",
    "df_ksa"
   ]
  },
  {
   "cell_type": "markdown",
   "id": "8495127a",
   "metadata": {
    "papermill": {
     "duration": 0.072817,
     "end_time": "2021-11-14T19:24:09.116682",
     "exception": false,
     "start_time": "2021-11-14T19:24:09.043865",
     "status": "completed"
    },
    "tags": []
   },
   "source": [
    "### Creating a summary table for the most recent 'Saudi Arabia' data"
   ]
  },
  {
   "cell_type": "code",
   "execution_count": 30,
   "id": "828fcae5",
   "metadata": {
    "execution": {
     "iopub.execute_input": "2021-11-14T19:24:09.265022Z",
     "iopub.status.busy": "2021-11-14T19:24:09.263970Z",
     "iopub.status.idle": "2021-11-14T19:24:09.285393Z",
     "shell.execute_reply": "2021-11-14T19:24:09.285895Z",
     "shell.execute_reply.started": "2021-11-14T19:05:45.675593Z"
    },
    "papermill": {
     "duration": 0.096242,
     "end_time": "2021-11-14T19:24:09.286075",
     "exception": false,
     "start_time": "2021-11-14T19:24:09.189833",
     "status": "completed"
    },
    "tags": []
   },
   "outputs": [
    {
     "data": {
      "text/html": [
       "<div>\n",
       "<style scoped>\n",
       "    .dataframe tbody tr th:only-of-type {\n",
       "        vertical-align: middle;\n",
       "    }\n",
       "\n",
       "    .dataframe tbody tr th {\n",
       "        vertical-align: top;\n",
       "    }\n",
       "\n",
       "    .dataframe thead th {\n",
       "        text-align: right;\n",
       "    }\n",
       "</style>\n",
       "<table border=\"1\" class=\"dataframe\">\n",
       "  <thead>\n",
       "    <tr style=\"text-align: right;\">\n",
       "      <th></th>\n",
       "      <th>total_cases</th>\n",
       "      <th>new_cases</th>\n",
       "      <th>new_deaths</th>\n",
       "      <th>total_deaths</th>\n",
       "      <th>people_vaccinated</th>\n",
       "    </tr>\n",
       "    <tr>\n",
       "      <th>date</th>\n",
       "      <th></th>\n",
       "      <th></th>\n",
       "      <th></th>\n",
       "      <th></th>\n",
       "      <th></th>\n",
       "    </tr>\n",
       "  </thead>\n",
       "  <tbody>\n",
       "    <tr>\n",
       "      <th>2020-03-02</th>\n",
       "      <td>1.0</td>\n",
       "      <td>1.0</td>\n",
       "      <td>0.0</td>\n",
       "      <td>0.0</td>\n",
       "      <td>0.0</td>\n",
       "    </tr>\n",
       "    <tr>\n",
       "      <th>2020-03-03</th>\n",
       "      <td>1.0</td>\n",
       "      <td>0.0</td>\n",
       "      <td>0.0</td>\n",
       "      <td>0.0</td>\n",
       "      <td>0.0</td>\n",
       "    </tr>\n",
       "    <tr>\n",
       "      <th>2020-03-04</th>\n",
       "      <td>1.0</td>\n",
       "      <td>0.0</td>\n",
       "      <td>0.0</td>\n",
       "      <td>0.0</td>\n",
       "      <td>0.0</td>\n",
       "    </tr>\n",
       "    <tr>\n",
       "      <th>2020-03-05</th>\n",
       "      <td>5.0</td>\n",
       "      <td>4.0</td>\n",
       "      <td>0.0</td>\n",
       "      <td>0.0</td>\n",
       "      <td>0.0</td>\n",
       "    </tr>\n",
       "    <tr>\n",
       "      <th>2020-03-06</th>\n",
       "      <td>5.0</td>\n",
       "      <td>0.0</td>\n",
       "      <td>0.0</td>\n",
       "      <td>0.0</td>\n",
       "      <td>0.0</td>\n",
       "    </tr>\n",
       "    <tr>\n",
       "      <th>...</th>\n",
       "      <td>...</td>\n",
       "      <td>...</td>\n",
       "      <td>...</td>\n",
       "      <td>...</td>\n",
       "      <td>...</td>\n",
       "    </tr>\n",
       "    <tr>\n",
       "      <th>2021-11-09</th>\n",
       "      <td>549022.0</td>\n",
       "      <td>49.0</td>\n",
       "      <td>1.0</td>\n",
       "      <td>8806.0</td>\n",
       "      <td>24337520.0</td>\n",
       "    </tr>\n",
       "    <tr>\n",
       "      <th>2021-11-10</th>\n",
       "      <td>549060.0</td>\n",
       "      <td>38.0</td>\n",
       "      <td>1.0</td>\n",
       "      <td>8807.0</td>\n",
       "      <td>24353452.0</td>\n",
       "    </tr>\n",
       "    <tr>\n",
       "      <th>2021-11-11</th>\n",
       "      <td>549103.0</td>\n",
       "      <td>43.0</td>\n",
       "      <td>2.0</td>\n",
       "      <td>8809.0</td>\n",
       "      <td>24372785.0</td>\n",
       "    </tr>\n",
       "    <tr>\n",
       "      <th>2021-11-12</th>\n",
       "      <td>549148.0</td>\n",
       "      <td>45.0</td>\n",
       "      <td>1.0</td>\n",
       "      <td>8810.0</td>\n",
       "      <td>24379243.0</td>\n",
       "    </tr>\n",
       "    <tr>\n",
       "      <th>2021-11-13</th>\n",
       "      <td>549192.0</td>\n",
       "      <td>44.0</td>\n",
       "      <td>1.0</td>\n",
       "      <td>8811.0</td>\n",
       "      <td>24388956.0</td>\n",
       "    </tr>\n",
       "  </tbody>\n",
       "</table>\n",
       "<p>622 rows × 5 columns</p>\n",
       "</div>"
      ],
      "text/plain": [
       "            total_cases  new_cases  new_deaths  total_deaths  \\\n",
       "date                                                           \n",
       "2020-03-02          1.0        1.0         0.0           0.0   \n",
       "2020-03-03          1.0        0.0         0.0           0.0   \n",
       "2020-03-04          1.0        0.0         0.0           0.0   \n",
       "2020-03-05          5.0        4.0         0.0           0.0   \n",
       "2020-03-06          5.0        0.0         0.0           0.0   \n",
       "...                 ...        ...         ...           ...   \n",
       "2021-11-09     549022.0       49.0         1.0        8806.0   \n",
       "2021-11-10     549060.0       38.0         1.0        8807.0   \n",
       "2021-11-11     549103.0       43.0         2.0        8809.0   \n",
       "2021-11-12     549148.0       45.0         1.0        8810.0   \n",
       "2021-11-13     549192.0       44.0         1.0        8811.0   \n",
       "\n",
       "            people_vaccinated  \n",
       "date                           \n",
       "2020-03-02                0.0  \n",
       "2020-03-03                0.0  \n",
       "2020-03-04                0.0  \n",
       "2020-03-05                0.0  \n",
       "2020-03-06                0.0  \n",
       "...                       ...  \n",
       "2021-11-09         24337520.0  \n",
       "2021-11-10         24353452.0  \n",
       "2021-11-11         24372785.0  \n",
       "2021-11-12         24379243.0  \n",
       "2021-11-13         24388956.0  \n",
       "\n",
       "[622 rows x 5 columns]"
      ]
     },
     "execution_count": 30,
     "metadata": {},
     "output_type": "execute_result"
    }
   ],
   "source": [
    "df_ksa.groupby(\"date\")[[\"total_cases\",\"new_cases\",\"new_deaths\",\"total_deaths\",'people_vaccinated']].sum()"
   ]
  },
  {
   "cell_type": "code",
   "execution_count": 31,
   "id": "9a301ab2",
   "metadata": {
    "execution": {
     "iopub.execute_input": "2021-11-14T19:24:09.448215Z",
     "iopub.status.busy": "2021-11-14T19:24:09.447468Z",
     "iopub.status.idle": "2021-11-14T19:24:09.460510Z",
     "shell.execute_reply": "2021-11-14T19:24:09.459943Z",
     "shell.execute_reply.started": "2021-11-14T19:05:57.285788Z"
    },
    "papermill": {
     "duration": 0.10097,
     "end_time": "2021-11-14T19:24:09.460663",
     "exception": false,
     "start_time": "2021-11-14T19:24:09.359693",
     "status": "completed"
    },
    "tags": []
   },
   "outputs": [
    {
     "data": {
      "text/html": [
       "<div>\n",
       "<style scoped>\n",
       "    .dataframe tbody tr th:only-of-type {\n",
       "        vertical-align: middle;\n",
       "    }\n",
       "\n",
       "    .dataframe tbody tr th {\n",
       "        vertical-align: top;\n",
       "    }\n",
       "\n",
       "    .dataframe thead th {\n",
       "        text-align: right;\n",
       "    }\n",
       "</style>\n",
       "<table border=\"1\" class=\"dataframe\">\n",
       "  <thead>\n",
       "    <tr style=\"text-align: right;\">\n",
       "      <th></th>\n",
       "      <th>iso_code</th>\n",
       "      <th>continent</th>\n",
       "      <th>location</th>\n",
       "      <th>date</th>\n",
       "      <th>total_cases</th>\n",
       "      <th>new_cases</th>\n",
       "      <th>new_cases_smoothed</th>\n",
       "      <th>total_deaths</th>\n",
       "      <th>new_deaths</th>\n",
       "      <th>new_deaths_smoothed</th>\n",
       "      <th>...</th>\n",
       "      <th>female_smokers</th>\n",
       "      <th>male_smokers</th>\n",
       "      <th>handwashing_facilities</th>\n",
       "      <th>hospital_beds_per_thousand</th>\n",
       "      <th>life_expectancy</th>\n",
       "      <th>human_development_index</th>\n",
       "      <th>excess_mortality_cumulative_absolute</th>\n",
       "      <th>excess_mortality_cumulative</th>\n",
       "      <th>excess_mortality</th>\n",
       "      <th>excess_mortality_cumulative_per_million</th>\n",
       "    </tr>\n",
       "  </thead>\n",
       "  <tbody>\n",
       "    <tr>\n",
       "      <th>103980</th>\n",
       "      <td>SAU</td>\n",
       "      <td>Asia</td>\n",
       "      <td>Saudi Arabia</td>\n",
       "      <td>2021-11-13</td>\n",
       "      <td>549192.0</td>\n",
       "      <td>44.0</td>\n",
       "      <td>43.143</td>\n",
       "      <td>8811.0</td>\n",
       "      <td>1.0</td>\n",
       "      <td>1.143</td>\n",
       "      <td>...</td>\n",
       "      <td>1.8</td>\n",
       "      <td>25.4</td>\n",
       "      <td>NaN</td>\n",
       "      <td>2.7</td>\n",
       "      <td>75.13</td>\n",
       "      <td>0.854</td>\n",
       "      <td>NaN</td>\n",
       "      <td>NaN</td>\n",
       "      <td>NaN</td>\n",
       "      <td>NaN</td>\n",
       "    </tr>\n",
       "  </tbody>\n",
       "</table>\n",
       "<p>1 rows × 65 columns</p>\n",
       "</div>"
      ],
      "text/plain": [
       "       iso_code continent      location        date  total_cases  new_cases  \\\n",
       "103980      SAU      Asia  Saudi Arabia  2021-11-13     549192.0       44.0   \n",
       "\n",
       "        new_cases_smoothed  total_deaths  new_deaths  new_deaths_smoothed  \\\n",
       "103980              43.143        8811.0         1.0                1.143   \n",
       "\n",
       "        ...  female_smokers  male_smokers  handwashing_facilities  \\\n",
       "103980  ...             1.8          25.4                     NaN   \n",
       "\n",
       "        hospital_beds_per_thousand  life_expectancy  human_development_index  \\\n",
       "103980                         2.7            75.13                    0.854   \n",
       "\n",
       "        excess_mortality_cumulative_absolute  excess_mortality_cumulative  \\\n",
       "103980                                   NaN                          NaN   \n",
       "\n",
       "        excess_mortality  excess_mortality_cumulative_per_million  \n",
       "103980               NaN                                      NaN  \n",
       "\n",
       "[1 rows x 65 columns]"
      ]
     },
     "execution_count": 31,
     "metadata": {},
     "output_type": "execute_result"
    }
   ],
   "source": [
    "df_ksa_recent_date = df_ksa[df_ksa['date'] == df_ksa.date.max()]\n",
    "df_ksa_recent_date # notice the outcome here is chaneble over the time you run the code"
   ]
  },
  {
   "cell_type": "code",
   "execution_count": 32,
   "id": "b77b6e9a",
   "metadata": {
    "execution": {
     "iopub.execute_input": "2021-11-14T19:24:09.610302Z",
     "iopub.status.busy": "2021-11-14T19:24:09.609550Z",
     "iopub.status.idle": "2021-11-14T19:24:09.622698Z",
     "shell.execute_reply": "2021-11-14T19:24:09.622017Z",
     "shell.execute_reply.started": "2021-11-14T19:06:45.754491Z"
    },
    "papermill": {
     "duration": 0.089449,
     "end_time": "2021-11-14T19:24:09.622857",
     "exception": false,
     "start_time": "2021-11-14T19:24:09.533408",
     "status": "completed"
    },
    "tags": []
   },
   "outputs": [
    {
     "data": {
      "text/html": [
       "<div>\n",
       "<style scoped>\n",
       "    .dataframe tbody tr th:only-of-type {\n",
       "        vertical-align: middle;\n",
       "    }\n",
       "\n",
       "    .dataframe tbody tr th {\n",
       "        vertical-align: top;\n",
       "    }\n",
       "\n",
       "    .dataframe thead th {\n",
       "        text-align: right;\n",
       "    }\n",
       "</style>\n",
       "<table border=\"1\" class=\"dataframe\">\n",
       "  <thead>\n",
       "    <tr style=\"text-align: right;\">\n",
       "      <th></th>\n",
       "      <th>index</th>\n",
       "      <th>total_cases</th>\n",
       "      <th>new_cases</th>\n",
       "      <th>new_deaths</th>\n",
       "      <th>total_deaths</th>\n",
       "      <th>people_vaccinated</th>\n",
       "    </tr>\n",
       "  </thead>\n",
       "  <tbody>\n",
       "    <tr>\n",
       "      <th>0</th>\n",
       "      <td>103980</td>\n",
       "      <td>549192.0</td>\n",
       "      <td>44.0</td>\n",
       "      <td>1.0</td>\n",
       "      <td>8811.0</td>\n",
       "      <td>24388956.0</td>\n",
       "    </tr>\n",
       "  </tbody>\n",
       "</table>\n",
       "</div>"
      ],
      "text/plain": [
       "    index  total_cases  new_cases  new_deaths  total_deaths  people_vaccinated\n",
       "0  103980     549192.0       44.0         1.0        8811.0         24388956.0"
      ]
     },
     "execution_count": 32,
     "metadata": {},
     "output_type": "execute_result"
    }
   ],
   "source": [
    "df_ksa_recent_date[[\"total_cases\",\"new_cases\",\"new_deaths\",\"total_deaths\",'people_vaccinated']].reset_index()"
   ]
  },
  {
   "cell_type": "markdown",
   "id": "511dadfd",
   "metadata": {
    "papermill": {
     "duration": 0.07298,
     "end_time": "2021-11-14T19:24:09.768912",
     "exception": false,
     "start_time": "2021-11-14T19:24:09.695932",
     "status": "completed"
    },
    "tags": []
   },
   "source": [
    "### Calculating the maximum values of 'Saudi Arabia' data"
   ]
  },
  {
   "cell_type": "code",
   "execution_count": 33,
   "id": "d5a7fff1",
   "metadata": {
    "execution": {
     "iopub.execute_input": "2021-11-14T19:24:09.925164Z",
     "iopub.status.busy": "2021-11-14T19:24:09.924460Z",
     "iopub.status.idle": "2021-11-14T19:24:09.927036Z",
     "shell.execute_reply": "2021-11-14T19:24:09.927546Z",
     "shell.execute_reply.started": "2021-11-14T19:06:50.411811Z"
    },
    "papermill": {
     "duration": 0.08522,
     "end_time": "2021-11-14T19:24:09.927720",
     "exception": false,
     "start_time": "2021-11-14T19:24:09.842500",
     "status": "completed"
    },
    "tags": []
   },
   "outputs": [
    {
     "data": {
      "text/plain": [
       "total_cases            549192.0\n",
       "new_cases                5439.0\n",
       "total_deaths             8811.0\n",
       "new_deaths                 77.0\n",
       "people_vaccinated    24388956.0\n",
       "dtype: float64"
      ]
     },
     "execution_count": 33,
     "metadata": {},
     "output_type": "execute_result"
    }
   ],
   "source": [
    "df_ksa[['total_cases', 'new_cases', 'total_deaths', 'new_deaths','people_vaccinated']].max()"
   ]
  },
  {
   "cell_type": "markdown",
   "id": "7d35ca50",
   "metadata": {
    "papermill": {
     "duration": 0.077041,
     "end_time": "2021-11-14T19:24:10.081465",
     "exception": false,
     "start_time": "2021-11-14T19:24:10.004424",
     "status": "completed"
    },
    "tags": []
   },
   "source": [
    "### The highest date recorded for death in Saudi Arabia"
   ]
  },
  {
   "cell_type": "code",
   "execution_count": 34,
   "id": "f557aa7f",
   "metadata": {
    "execution": {
     "iopub.execute_input": "2021-11-14T19:24:10.233812Z",
     "iopub.status.busy": "2021-11-14T19:24:10.233022Z",
     "iopub.status.idle": "2021-11-14T19:24:10.240515Z",
     "shell.execute_reply": "2021-11-14T19:24:10.241077Z",
     "shell.execute_reply.started": "2021-11-14T19:06:53.875351Z"
    },
    "papermill": {
     "duration": 0.084694,
     "end_time": "2021-11-14T19:24:10.241262",
     "exception": false,
     "start_time": "2021-11-14T19:24:10.156568",
     "status": "completed"
    },
    "tags": []
   },
   "outputs": [
    {
     "data": {
      "text/plain": [
       "103888    2021-08-13\n",
       "Name: date, dtype: object"
      ]
     },
     "execution_count": 34,
     "metadata": {},
     "output_type": "execute_result"
    }
   ],
   "source": [
    "df_ksa[df_ksa['new_deaths'] == df_ksa['new_deaths'].max()]['date']"
   ]
  },
  {
   "cell_type": "markdown",
   "id": "335124fd",
   "metadata": {
    "papermill": {
     "duration": 0.074476,
     "end_time": "2021-11-14T19:24:10.389844",
     "exception": false,
     "start_time": "2021-11-14T19:24:10.315368",
     "status": "completed"
    },
    "tags": []
   },
   "source": [
    "### The average value(s) of daily-recorded data in Saudi Arabia"
   ]
  },
  {
   "cell_type": "code",
   "execution_count": 35,
   "id": "eb3af082",
   "metadata": {
    "execution": {
     "iopub.execute_input": "2021-11-14T19:24:10.540764Z",
     "iopub.status.busy": "2021-11-14T19:24:10.540130Z",
     "iopub.status.idle": "2021-11-14T19:24:10.545215Z",
     "shell.execute_reply": "2021-11-14T19:24:10.545742Z",
     "shell.execute_reply.started": "2021-11-14T19:06:56.111750Z"
    },
    "papermill": {
     "duration": 0.081884,
     "end_time": "2021-11-14T19:24:10.545905",
     "exception": false,
     "start_time": "2021-11-14T19:24:10.464021",
     "status": "completed"
    },
    "tags": []
   },
   "outputs": [
    {
     "data": {
      "text/plain": [
       "882.9453376205788"
      ]
     },
     "execution_count": 35,
     "metadata": {},
     "output_type": "execute_result"
    }
   ],
   "source": [
    "df_ksa['new_cases'].mean()"
   ]
  },
  {
   "cell_type": "markdown",
   "id": "e320e309",
   "metadata": {
    "papermill": {
     "duration": 0.073969,
     "end_time": "2021-11-14T19:24:10.693987",
     "exception": false,
     "start_time": "2021-11-14T19:24:10.620018",
     "status": "completed"
    },
    "tags": []
   },
   "source": [
    "## **Now let's visualize the data of Saudi Arabia**"
   ]
  },
  {
   "cell_type": "code",
   "execution_count": 36,
   "id": "22e738b1",
   "metadata": {
    "execution": {
     "iopub.execute_input": "2021-11-14T19:24:10.845442Z",
     "iopub.status.busy": "2021-11-14T19:24:10.844758Z",
     "iopub.status.idle": "2021-11-14T19:24:10.870710Z",
     "shell.execute_reply": "2021-11-14T19:24:10.871302Z",
     "shell.execute_reply.started": "2021-11-14T19:08:08.189678Z"
    },
    "papermill": {
     "duration": 0.103083,
     "end_time": "2021-11-14T19:24:10.871483",
     "exception": false,
     "start_time": "2021-11-14T19:24:10.768400",
     "status": "completed"
    },
    "tags": []
   },
   "outputs": [
    {
     "data": {
      "text/html": [
       "<div>\n",
       "<style scoped>\n",
       "    .dataframe tbody tr th:only-of-type {\n",
       "        vertical-align: middle;\n",
       "    }\n",
       "\n",
       "    .dataframe tbody tr th {\n",
       "        vertical-align: top;\n",
       "    }\n",
       "\n",
       "    .dataframe thead th {\n",
       "        text-align: right;\n",
       "    }\n",
       "</style>\n",
       "<table border=\"1\" class=\"dataframe\">\n",
       "  <thead>\n",
       "    <tr style=\"text-align: right;\">\n",
       "      <th></th>\n",
       "      <th>date</th>\n",
       "      <th>total_cases</th>\n",
       "      <th>new_cases</th>\n",
       "      <th>total_deaths</th>\n",
       "      <th>new_deaths</th>\n",
       "      <th>people_vaccinated</th>\n",
       "    </tr>\n",
       "  </thead>\n",
       "  <tbody>\n",
       "    <tr>\n",
       "      <th>0</th>\n",
       "      <td>2020-03-02</td>\n",
       "      <td>1.0</td>\n",
       "      <td>1.0</td>\n",
       "      <td>0.0</td>\n",
       "      <td>0.0</td>\n",
       "      <td>0.0</td>\n",
       "    </tr>\n",
       "    <tr>\n",
       "      <th>1</th>\n",
       "      <td>2020-03-03</td>\n",
       "      <td>1.0</td>\n",
       "      <td>0.0</td>\n",
       "      <td>0.0</td>\n",
       "      <td>0.0</td>\n",
       "      <td>0.0</td>\n",
       "    </tr>\n",
       "    <tr>\n",
       "      <th>2</th>\n",
       "      <td>2020-03-04</td>\n",
       "      <td>1.0</td>\n",
       "      <td>0.0</td>\n",
       "      <td>0.0</td>\n",
       "      <td>0.0</td>\n",
       "      <td>0.0</td>\n",
       "    </tr>\n",
       "    <tr>\n",
       "      <th>3</th>\n",
       "      <td>2020-03-05</td>\n",
       "      <td>5.0</td>\n",
       "      <td>4.0</td>\n",
       "      <td>0.0</td>\n",
       "      <td>0.0</td>\n",
       "      <td>0.0</td>\n",
       "    </tr>\n",
       "    <tr>\n",
       "      <th>4</th>\n",
       "      <td>2020-03-06</td>\n",
       "      <td>5.0</td>\n",
       "      <td>0.0</td>\n",
       "      <td>0.0</td>\n",
       "      <td>0.0</td>\n",
       "      <td>0.0</td>\n",
       "    </tr>\n",
       "    <tr>\n",
       "      <th>...</th>\n",
       "      <td>...</td>\n",
       "      <td>...</td>\n",
       "      <td>...</td>\n",
       "      <td>...</td>\n",
       "      <td>...</td>\n",
       "      <td>...</td>\n",
       "    </tr>\n",
       "    <tr>\n",
       "      <th>617</th>\n",
       "      <td>2021-11-09</td>\n",
       "      <td>549022.0</td>\n",
       "      <td>49.0</td>\n",
       "      <td>8806.0</td>\n",
       "      <td>1.0</td>\n",
       "      <td>24337520.0</td>\n",
       "    </tr>\n",
       "    <tr>\n",
       "      <th>618</th>\n",
       "      <td>2021-11-10</td>\n",
       "      <td>549060.0</td>\n",
       "      <td>38.0</td>\n",
       "      <td>8807.0</td>\n",
       "      <td>1.0</td>\n",
       "      <td>24353452.0</td>\n",
       "    </tr>\n",
       "    <tr>\n",
       "      <th>619</th>\n",
       "      <td>2021-11-11</td>\n",
       "      <td>549103.0</td>\n",
       "      <td>43.0</td>\n",
       "      <td>8809.0</td>\n",
       "      <td>2.0</td>\n",
       "      <td>24372785.0</td>\n",
       "    </tr>\n",
       "    <tr>\n",
       "      <th>620</th>\n",
       "      <td>2021-11-12</td>\n",
       "      <td>549148.0</td>\n",
       "      <td>45.0</td>\n",
       "      <td>8810.0</td>\n",
       "      <td>1.0</td>\n",
       "      <td>24379243.0</td>\n",
       "    </tr>\n",
       "    <tr>\n",
       "      <th>621</th>\n",
       "      <td>2021-11-13</td>\n",
       "      <td>549192.0</td>\n",
       "      <td>44.0</td>\n",
       "      <td>8811.0</td>\n",
       "      <td>1.0</td>\n",
       "      <td>24388956.0</td>\n",
       "    </tr>\n",
       "  </tbody>\n",
       "</table>\n",
       "<p>622 rows × 6 columns</p>\n",
       "</div>"
      ],
      "text/plain": [
       "          date  total_cases  new_cases  total_deaths  new_deaths  \\\n",
       "0   2020-03-02          1.0        1.0           0.0         0.0   \n",
       "1   2020-03-03          1.0        0.0           0.0         0.0   \n",
       "2   2020-03-04          1.0        0.0           0.0         0.0   \n",
       "3   2020-03-05          5.0        4.0           0.0         0.0   \n",
       "4   2020-03-06          5.0        0.0           0.0         0.0   \n",
       "..         ...          ...        ...           ...         ...   \n",
       "617 2021-11-09     549022.0       49.0        8806.0         1.0   \n",
       "618 2021-11-10     549060.0       38.0        8807.0         1.0   \n",
       "619 2021-11-11     549103.0       43.0        8809.0         2.0   \n",
       "620 2021-11-12     549148.0       45.0        8810.0         1.0   \n",
       "621 2021-11-13     549192.0       44.0        8811.0         1.0   \n",
       "\n",
       "     people_vaccinated  \n",
       "0                  0.0  \n",
       "1                  0.0  \n",
       "2                  0.0  \n",
       "3                  0.0  \n",
       "4                  0.0  \n",
       "..                 ...  \n",
       "617         24337520.0  \n",
       "618         24353452.0  \n",
       "619         24372785.0  \n",
       "620         24379243.0  \n",
       "621         24388956.0  \n",
       "\n",
       "[622 rows x 6 columns]"
      ]
     },
     "execution_count": 36,
     "metadata": {},
     "output_type": "execute_result"
    }
   ],
   "source": [
    "df_ksa_viz = df_ksa.groupby('date')[[ 'total_cases', 'new_cases', 'total_deaths', 'new_deaths','people_vaccinated']].sum().reset_index()\n",
    "df_ksa_viz['date'] = pd.to_datetime(df_ksa_viz['date'])\n",
    "df_ksa_viz"
   ]
  },
  {
   "cell_type": "markdown",
   "id": "563af58f",
   "metadata": {
    "papermill": {
     "duration": 0.074604,
     "end_time": "2021-11-14T19:24:11.020679",
     "exception": false,
     "start_time": "2021-11-14T19:24:10.946075",
     "status": "completed"
    },
    "tags": []
   },
   "source": [
    "### Confirmed cases (Total Cases"
   ]
  },
  {
   "cell_type": "code",
   "execution_count": 37,
   "id": "3a7d0a1a",
   "metadata": {
    "execution": {
     "iopub.execute_input": "2021-11-14T19:24:11.175094Z",
     "iopub.status.busy": "2021-11-14T19:24:11.174464Z",
     "iopub.status.idle": "2021-11-14T19:24:11.751273Z",
     "shell.execute_reply": "2021-11-14T19:24:11.750558Z",
     "shell.execute_reply.started": "2021-11-14T19:12:17.379285Z"
    },
    "papermill": {
     "duration": 0.655958,
     "end_time": "2021-11-14T19:24:11.751419",
     "exception": false,
     "start_time": "2021-11-14T19:24:11.095461",
     "status": "completed"
    },
    "tags": []
   },
   "outputs": [
    {
     "data": {
      "text/plain": [
       "Text(0, 0.5, 'Confirmed cases')"
      ]
     },
     "execution_count": 37,
     "metadata": {},
     "output_type": "execute_result"
    },
    {
     "data": {
      "image/png": "[encoded data removed]",
      "text/plain": [
       "<Figure size 1440x720 with 1 Axes>"
      ]
     },
     "metadata": {},
     "output_type": "display_data"
    }
   ],
   "source": [
    "plt.figure(figsize=(20,10))\n",
    "plt.plot(df_ksa_viz['date'], df_ksa_viz['total_cases'], c='black')\n",
    "plt.title('Evolution of Confirmed Covid-19 cases over time in the Saudi Arabia', fontsize=16)\n",
    "plt.xlabel('Months', fontsize=16)\n",
    "plt.ylabel('Confirmed cases', fontsize=16)"
   ]
  },
  {
   "cell_type": "markdown",
   "id": "076c5d33",
   "metadata": {
    "papermill": {
     "duration": 0.076507,
     "end_time": "2021-11-14T19:24:11.905210",
     "exception": false,
     "start_time": "2021-11-14T19:24:11.828703",
     "status": "completed"
    },
    "tags": []
   },
   "source": [
    "### Total deaths cases evolution over time"
   ]
  },
  {
   "cell_type": "code",
   "execution_count": 38,
   "id": "6e3c6b3e",
   "metadata": {
    "execution": {
     "iopub.execute_input": "2021-11-14T19:24:12.064165Z",
     "iopub.status.busy": "2021-11-14T19:24:12.063083Z",
     "iopub.status.idle": "2021-11-14T19:24:12.630564Z",
     "shell.execute_reply": "2021-11-14T19:24:12.629735Z",
     "shell.execute_reply.started": "2021-11-14T19:15:39.530926Z"
    },
    "papermill": {
     "duration": 0.6486,
     "end_time": "2021-11-14T19:24:12.630718",
     "exception": false,
     "start_time": "2021-11-14T19:24:11.982118",
     "status": "completed"
    },
    "tags": []
   },
   "outputs": [
    {
     "data": {
      "text/plain": [
       "Text(0, 0.5, 'Confirmed deaths')"
      ]
     },
     "execution_count": 38,
     "metadata": {},
     "output_type": "execute_result"
    },
    {
     "data": {
      "image/png": "[encoded data removed]",
      "text/plain": [
       "<Figure size 1440x720 with 1 Axes>"
      ]
     },
     "metadata": {},
     "output_type": "display_data"
    }
   ],
   "source": [
    "plt.figure(figsize=(20,10))\n",
    "plt.plot(df_ksa_viz['date'], df_ksa_viz['total_deaths'], c='red')\n",
    "plt.title('Evolution of Confirmed Covid-19 deaths over time in the Saudi Arabia', fontsize=16)\n",
    "plt.xlabel('Months', fontsize=16)\n",
    "plt.ylabel('Confirmed deaths', fontsize=16)"
   ]
  },
  {
   "cell_type": "markdown",
   "id": "d1a058f6",
   "metadata": {
    "papermill": {
     "duration": 0.078194,
     "end_time": "2021-11-14T19:24:12.787409",
     "exception": false,
     "start_time": "2021-11-14T19:24:12.709215",
     "status": "completed"
    },
    "tags": []
   },
   "source": [
    "### New cases all over the world"
   ]
  },
  {
   "cell_type": "code",
   "execution_count": 39,
   "id": "4a1bdab7",
   "metadata": {
    "execution": {
     "iopub.execute_input": "2021-11-14T19:24:12.950741Z",
     "iopub.status.busy": "2021-11-14T19:24:12.949642Z",
     "iopub.status.idle": "2021-11-14T19:24:13.541762Z",
     "shell.execute_reply": "2021-11-14T19:24:13.541176Z",
     "shell.execute_reply.started": "2021-11-14T19:17:33.249780Z"
    },
    "papermill": {
     "duration": 0.675168,
     "end_time": "2021-11-14T19:24:13.541906",
     "exception": false,
     "start_time": "2021-11-14T19:24:12.866738",
     "status": "completed"
    },
    "tags": []
   },
   "outputs": [
    {
     "data": {
      "text/plain": [
       "Text(0, 0.5, 'New Cases')"
      ]
     },
     "execution_count": 39,
     "metadata": {},
     "output_type": "execute_result"
    },
    {
     "data": {
      "image/png": "[encoded data removed]",
      "text/plain": [
       "<Figure size 1440x720 with 1 Axes>"
      ]
     },
     "metadata": {},
     "output_type": "display_data"
    }
   ],
   "source": [
    "plt.figure(figsize=(20,10))\n",
    "plt.plot(df_ksa_viz['date'], df_ksa_viz['new_deaths'], c='blue')\n",
    "plt.title('Evolution of Covid-19 new cases over time in the Saudi Arabia', fontsize=16)\n",
    "plt.xlabel('Months', fontsize=16)\n",
    "plt.ylabel('New Cases', fontsize=16)"
   ]
  },
  {
   "cell_type": "markdown",
   "id": "c9d6f2a5",
   "metadata": {
    "papermill": {
     "duration": 0.081403,
     "end_time": "2021-11-14T19:24:13.713644",
     "exception": false,
     "start_time": "2021-11-14T19:24:13.632241",
     "status": "completed"
    },
    "tags": []
   },
   "source": [
    "### People vaccinated all over the world"
   ]
  },
  {
   "cell_type": "code",
   "execution_count": 40,
   "id": "b30299ee",
   "metadata": {
    "execution": {
     "iopub.execute_input": "2021-11-14T19:24:13.887812Z",
     "iopub.status.busy": "2021-11-14T19:24:13.886893Z",
     "iopub.status.idle": "2021-11-14T19:24:14.465019Z",
     "shell.execute_reply": "2021-11-14T19:24:14.464038Z",
     "shell.execute_reply.started": "2021-11-14T19:19:51.604451Z"
    },
    "papermill": {
     "duration": 0.668662,
     "end_time": "2021-11-14T19:24:14.465176",
     "exception": false,
     "start_time": "2021-11-14T19:24:13.796514",
     "status": "completed"
    },
    "tags": []
   },
   "outputs": [
    {
     "data": {
      "text/plain": [
       "Text(0, 0.5, 'People vaccinated')"
      ]
     },
     "execution_count": 40,
     "metadata": {},
     "output_type": "execute_result"
    },
    {
     "data": {
      "image/png": "[encoded data removed]",
      "text/plain": [
       "<Figure size 1440x720 with 1 Axes>"
      ]
     },
     "metadata": {},
     "output_type": "display_data"
    }
   ],
   "source": [
    "plt.figure(figsize=(20,10))\n",
    "plt.plot(df_ksa_viz['date'], df_ksa_viz['people_vaccinated'], c='green')\n",
    "plt.title('Evolution of People vaccinated against Covid-19 in the Saudi Arabia', fontsize=16)\n",
    "plt.xlabel('Months', fontsize=16)\n",
    "plt.ylabel('People vaccinated', fontsize=16)"
   ]
  },
  {
   "cell_type": "markdown",
   "id": "4a6454be",
   "metadata": {
    "papermill": {
     "duration": 0.083699,
     "end_time": "2021-11-14T19:24:14.633250",
     "exception": false,
     "start_time": "2021-11-14T19:24:14.549551",
     "status": "completed"
    },
    "tags": []
   },
   "source": [
    "### Putting it all together"
   ]
  },
  {
   "cell_type": "code",
   "execution_count": 41,
   "id": "3010e70f",
   "metadata": {
    "execution": {
     "iopub.execute_input": "2021-11-14T19:24:14.804789Z",
     "iopub.status.busy": "2021-11-14T19:24:14.804109Z",
     "iopub.status.idle": "2021-11-14T19:24:15.298227Z",
     "shell.execute_reply": "2021-11-14T19:24:15.298751Z",
     "shell.execute_reply.started": "2021-11-14T19:20:44.660645Z"
    },
    "papermill": {
     "duration": 0.5815,
     "end_time": "2021-11-14T19:24:15.298933",
     "exception": false,
     "start_time": "2021-11-14T19:24:14.717433",
     "status": "completed"
    },
    "tags": []
   },
   "outputs": [
    {
     "data": {
      "image/png": "[encoded data removed]",
      "text/plain": [
       "<Figure size 1440x720 with 1 Axes>"
      ]
     },
     "metadata": {},
     "output_type": "display_data"
    }
   ],
   "source": [
    "plt.figure(figsize=(20,10))\n",
    "plt.plot(df_ksa_viz['date'], df_ksa_viz['total_cases'], c='black')\n",
    "plt.plot(df_ksa_viz['date'], df_ksa_viz['total_deaths'], c='red')\n",
    "plt.plot(df_ksa_viz['date'], df_ksa_viz['people_vaccinated'], c='green')\n",
    "plt.legend(loc=0)\n",
    "plt.show()"
   ]
  },
  {
   "cell_type": "markdown",
   "id": "a541dc1d",
   "metadata": {
    "papermill": {
     "duration": 0.085104,
     "end_time": "2021-11-14T19:24:15.469756",
     "exception": false,
     "start_time": "2021-11-14T19:24:15.384652",
     "status": "completed"
    },
    "tags": []
   },
   "source": [
    "=========="
   ]
  },
  {
   "cell_type": "markdown",
   "id": "ee7a4730",
   "metadata": {
    "papermill": {
     "duration": 0.08573,
     "end_time": "2021-11-14T19:24:15.641099",
     "exception": false,
     "start_time": "2021-11-14T19:24:15.555369",
     "status": "completed"
    },
    "tags": []
   },
   "source": [
    "#### **Last words: Please leave a comment or upvote and notice the data are changeable over the time. Thanks for your interesting.   OSAMA REFAY**"
   ]
  }
 ],
 "metadata": {
  "kernelspec": {
   "display_name": "Python 3",
   "language": "python",
   "name": "python3"
  },
  "language_info": {
   "codemirror_mode": {
    "name": "ipython",
    "version": 3
   },
   "file_extension": ".py",
   "mimetype": "text/x-python",
   "name": "python",
   "nbconvert_exporter": "python",
   "pygments_lexer": "ipython3",
   "version": "3.7.10"
  },
  "papermill": {
   "default_parameters": {},
   "duration": 30.031416,
   "end_time": "2021-11-14T19:24:16.440820",
   "environment_variables": {},
   "exception": null,
   "input_path": "__notebook__.ipynb",
   "output_path": "__notebook__.ipynb",
   "parameters": {},
   "start_time": "2021-11-14T19:23:46.409404",
   "version": "2.3.3"
  }
 },
 "nbformat": 4,
 "nbformat_minor": 5
}
